{
 "cells": [
  {
   "cell_type": "markdown",
   "metadata": {},
   "source": [
    "from https://nbviewer.jupyter.org/url/root.cern/doc/master/notebooks/rf102_dataimport.py.nbconvert.ipynb"
   ]
  },
  {
   "cell_type": "code",
   "execution_count": 1,
   "metadata": {
    "scrolled": true
   },
   "outputs": [
    {
     "name": "stdout",
     "output_type": "stream",
     "text": [
      "Welcome to JupyROOT 6.18/04\n"
     ]
    }
   ],
   "source": [
    "import ROOT\n",
    "from array import array\n",
    "from ROOT import gROOT \n",
    "import numpy as np\n",
    "import os"
   ]
  },
  {
   "cell_type": "markdown",
   "metadata": {},
   "source": [
    "## Trying Simultaneous fit\n",
    "https://root.cern.ch/doc/master/rf501__simultaneouspdf_8py.html"
   ]
  },
  {
   "cell_type": "code",
   "execution_count": 2,
   "metadata": {},
   "outputs": [],
   "source": [
    "dgq = 'data16'\n",
    "# dgq = 'gjets'\n",
    "ee = 'e30_60'"
   ]
  },
  {
   "cell_type": "code",
   "execution_count": 3,
   "metadata": {},
   "outputs": [
    {
     "name": "stdout",
     "output_type": "stream",
     "text": [
      "(mypow) An instance of mypow.\n"
     ]
    }
   ],
   "source": [
    "if \"data\" in dgq:\n",
    "    if(not os.path.exists(\"mypow_cxx.so\")):\n",
    "        ROOT.RooClassFactory.makePdf(\n",
    "         \"mypow\", \"x,p0,p1\", \"\", \"p0*TMath::Exp(p1*x)\") #Declare function\n",
    "    ROOT.gROOT.ProcessLineSync(\".x mypow.cxx+\") # Compile it for Roofit"
   ]
  },
  {
   "cell_type": "code",
   "execution_count": 4,
   "metadata": {},
   "outputs": [],
   "source": [
    "binw = 0.025\n",
    "\n",
    "if 'data' in dgq:\n",
    "    rlow = 0.375 #-1*binw \n",
    "    rhigh = 0.725 \n",
    "else:\n",
    "    rlow = 0.375\n",
    "    rhigh = 0.725-0.05\n",
    "    \n",
    "#0.4, 0.68 for 30-60 data and gjets\n",
    "#0.35, 0.7\n",
    "# rlow = 0.4\n",
    "# rhigh = 0.7\n",
    "helpme = 0.02"
   ]
  },
  {
   "cell_type": "code",
   "execution_count": 5,
   "metadata": {},
   "outputs": [],
   "source": [
    "# inFile = ROOT.TFile(\"./{}Out_{}.root\".format(dgq, ee), \"read\")\n",
    "inFile = ROOT.TFile(\"./NoTrigOutFiles/{}Out_{}.root\".format(dgq, ee), \"read\")\n",
    "\n",
    "hist_p = inFile.Get(\"mass_pp\")\n",
    "hist_f = inFile.Get(\"mass_ff\")\n"
   ]
  },
  {
   "cell_type": "code",
   "execution_count": 6,
   "metadata": {},
   "outputs": [],
   "source": [
    "c1 = ROOT.TCanvas(\"c\", \"c\", 800, 800)\n",
    "c1.cd()\n",
    "hist_f.Draw(\"hist\")\n",
    "# gROOT.GetListOfCanvases().Draw()"
   ]
  },
  {
   "cell_type": "code",
   "execution_count": 7,
   "metadata": {},
   "outputs": [],
   "source": [
    "# passhist = ROOT.TH1F(\"pass\", \"diphoton mass ; mass (GeV) ; \", hist_p.GetNbinsX(), hist_p.GetBinCenter(1), hist_p.GetBinCenter(hist_p.GetNbinsX() + 1) )\n",
    "# failhist = ROOT.TH1F(\"fail\", \"diphoton mass ; mass (GeV) ; \", hist_f.GetNbinsX(), hist_f.GetBinCenter(1), hist_f.GetBinCenter(hist_f.GetNbinsX() + 1) )\n",
    "\n",
    "passhist = ROOT.TH1F(\"pass\", \"diphoton mass ; mass (GeV) ; \", hist_p.GetNbinsX(), hist_p.GetBinLowEdge(1), hist_p.GetBinLowEdge(hist_p.GetNbinsX() + 1) )\n",
    "failhist = ROOT.TH1F(\"fail\", \"diphoton mass ; mass (GeV) ; \", hist_f.GetNbinsX(), hist_f.GetBinLowEdge(1), hist_f.GetBinLowEdge(hist_f.GetNbinsX() + 1) )\n",
    "\n",
    "\n",
    "#Pass\n",
    "for i in range(1, hist_p.GetNbinsX()+1):\n",
    "    if(hist_p.GetBinContent(i) < 0): continue\n",
    "    if( hist_p.GetBinCenter(i) >= rlow-helpme and hist_p.GetBinCenter(i) < rhigh):\n",
    "        passhist.SetBinContent(i, hist_p.GetBinContent(i))\n",
    "\n",
    "#Fail\n",
    "for i in range(1, hist_f.GetNbinsX()+1):\n",
    "    if(hist_f.GetBinContent(i) < 0): continue\n",
    "    if( hist_f.GetBinCenter(i) >= rlow-helpme and hist_f.GetBinCenter(i) < rhigh):\n",
    "        failhist.SetBinContent(i, hist_f.GetBinContent(i))\n",
    "\n",
    "        \n",
    "# passhist.GetXaxis().SetRangeUser(rlow, rhigh)\n",
    "# failhist.GetXaxis().SetRangeUser(rlow, rhigh)"
   ]
  },
  {
   "cell_type": "code",
   "execution_count": 8,
   "metadata": {
    "scrolled": true
   },
   "outputs": [
    {
     "name": "stderr",
     "output_type": "stream",
     "text": [
      "Warning in <TCanvas::Constructor>: Deleting canvas with same name: c\n"
     ]
    }
   ],
   "source": [
    "c1 = ROOT.TCanvas(\"c\", \"c\", 400, 400)\n",
    "c1.cd()\n",
    "# failhist.Draw(\"SAME\")\n",
    "passhist.Draw(\"SAME\")\n",
    "# gROOT.GetListOfCanvases().Draw()"
   ]
  },
  {
   "cell_type": "code",
   "execution_count": 9,
   "metadata": {},
   "outputs": [
    {
     "data": {
      "text/plain": [
       "4772233.0"
      ]
     },
     "execution_count": 9,
     "metadata": {},
     "output_type": "execute_result"
    }
   ],
   "source": [
    "passhist.Integral()"
   ]
  },
  {
   "cell_type": "code",
   "execution_count": 10,
   "metadata": {},
   "outputs": [],
   "source": [
    "x = ROOT.RooRealVar(\"x\", \"x\", rlow+0.02, rhigh)"
   ]
  },
  {
   "cell_type": "code",
   "execution_count": 11,
   "metadata": {},
   "outputs": [
    {
     "name": "stdout",
     "output_type": "stream",
     "text": [
      "[#1] INFO:DataHandling -- RooDataHist::adjustBinning(dh): fit range of variable x expanded to nearest bin boundaries: [0.395,0.725] --> [0.375,0.725]\n"
     ]
    }
   ],
   "source": [
    "data_pass = ROOT.RooDataHist(\"dh\",\"dh\",ROOT.RooArgList(x), passhist)\n",
    "data_fail = ROOT.RooDataHist(\"df\",\"df\",ROOT.RooArgList(x), failhist)"
   ]
  },
  {
   "cell_type": "code",
   "execution_count": 12,
   "metadata": {},
   "outputs": [
    {
     "ename": "AttributeError",
     "evalue": "RooCrystalBall",
     "output_type": "error",
     "traceback": [
      "\u001b[0;31m\u001b[0m",
      "\u001b[0;31mAttributeError\u001b[0mTraceback (most recent call last)",
      "\u001b[0;32m<ipython-input-12-2daad01b7656>\u001b[0m in \u001b[0;36m<module>\u001b[0;34m()\u001b[0m\n\u001b[1;32m     20\u001b[0m \u001b[0msigma1_p\u001b[0m \u001b[0;34m=\u001b[0m \u001b[0mROOT\u001b[0m\u001b[0;34m.\u001b[0m\u001b[0mRooRealVar\u001b[0m\u001b[0;34m(\u001b[0m\u001b[0;34m\"sigma1_p\"\u001b[0m\u001b[0;34m,\u001b[0m \u001b[0;34m\"sigma1_p\"\u001b[0m\u001b[0;34m,\u001b[0m \u001b[0mss\u001b[0m\u001b[0;34m,\u001b[0m \u001b[0mss\u001b[0m\u001b[0;34m-\u001b[0m\u001b[0msw\u001b[0m\u001b[0;34m*\u001b[0m\u001b[0mse\u001b[0m\u001b[0;34m,\u001b[0m \u001b[0mss\u001b[0m\u001b[0;34m+\u001b[0m\u001b[0msw\u001b[0m\u001b[0;34m*\u001b[0m\u001b[0mse\u001b[0m\u001b[0;34m)\u001b[0m\u001b[0;34m\u001b[0m\u001b[0m\n\u001b[1;32m     21\u001b[0m \u001b[0msigma2_p\u001b[0m \u001b[0;34m=\u001b[0m \u001b[0mROOT\u001b[0m\u001b[0;34m.\u001b[0m\u001b[0mRooRealVar\u001b[0m\u001b[0;34m(\u001b[0m\u001b[0;34m\"sigma2_p\"\u001b[0m\u001b[0;34m,\u001b[0m \u001b[0;34m\"sigma2_p\"\u001b[0m\u001b[0;34m,\u001b[0m \u001b[0mss\u001b[0m\u001b[0;34m,\u001b[0m \u001b[0mss\u001b[0m\u001b[0;34m-\u001b[0m\u001b[0msw\u001b[0m\u001b[0;34m*\u001b[0m\u001b[0mse\u001b[0m\u001b[0;34m,\u001b[0m \u001b[0mss\u001b[0m\u001b[0;34m+\u001b[0m\u001b[0msw\u001b[0m\u001b[0;34m*\u001b[0m\u001b[0mse\u001b[0m\u001b[0;34m)\u001b[0m\u001b[0;34m\u001b[0m\u001b[0m\n\u001b[0;32m---> 22\u001b[0;31m \u001b[0mgx_p\u001b[0m \u001b[0;34m=\u001b[0m \u001b[0mROOT\u001b[0m\u001b[0;34m.\u001b[0m\u001b[0mRooCrystalBall\u001b[0m\u001b[0;34m(\u001b[0m\u001b[0;34m\"cb_pass\"\u001b[0m\u001b[0;34m,\u001b[0m \u001b[0;34m\"cb_pass\"\u001b[0m\u001b[0;34m,\u001b[0m \u001b[0mx\u001b[0m\u001b[0;34m,\u001b[0m \u001b[0mmean_p\u001b[0m\u001b[0;34m,\u001b[0m \u001b[0msigma1_p\u001b[0m\u001b[0;34m,\u001b[0m \u001b[0msigma2_p\u001b[0m\u001b[0;34m,\u001b[0m \u001b[0ma1_p\u001b[0m\u001b[0;34m,\u001b[0m \u001b[0mn1_p\u001b[0m\u001b[0;34m,\u001b[0m \u001b[0ma2_p\u001b[0m\u001b[0;34m,\u001b[0m \u001b[0mn2_p\u001b[0m\u001b[0;34m)\u001b[0m\u001b[0;34m\u001b[0m\u001b[0m\n\u001b[0m\u001b[1;32m     23\u001b[0m \u001b[0;34m\u001b[0m\u001b[0m\n\u001b[1;32m     24\u001b[0m \u001b[0;31m#Background PDF\u001b[0m\u001b[0;34m\u001b[0m\u001b[0;34m\u001b[0m\u001b[0m\n",
      "\u001b[0;32m/cvmfs/cms.cern.ch/slc7_amd64_gcc820/lcg/root/6.18.04-bcolbf5/lib/ROOT.pyc\u001b[0m in \u001b[0;36m__getattr2\u001b[0;34m(self, name)\u001b[0m\n\u001b[1;32m    683\u001b[0m \u001b[0;34m\u001b[0m\u001b[0m\n\u001b[1;32m    684\u001b[0m     \u001b[0;31m# reaching this point means failure ...\u001b[0m\u001b[0;34m\u001b[0m\u001b[0;34m\u001b[0m\u001b[0m\n\u001b[0;32m--> 685\u001b[0;31m       \u001b[0;32mraise\u001b[0m \u001b[0mAttributeError\u001b[0m\u001b[0;34m(\u001b[0m \u001b[0mname\u001b[0m \u001b[0;34m)\u001b[0m\u001b[0;34m\u001b[0m\u001b[0m\n\u001b[0m\u001b[1;32m    686\u001b[0m \u001b[0;34m\u001b[0m\u001b[0m\n\u001b[1;32m    687\u001b[0m    \u001b[0;32mdef\u001b[0m \u001b[0m__delattr__\u001b[0m\u001b[0;34m(\u001b[0m \u001b[0mself\u001b[0m\u001b[0;34m,\u001b[0m \u001b[0mname\u001b[0m \u001b[0;34m)\u001b[0m\u001b[0;34m:\u001b[0m\u001b[0;34m\u001b[0m\u001b[0m\n",
      "\u001b[0;31mAttributeError\u001b[0m: RooCrystalBall"
     ]
    }
   ],
   "source": [
    "#Passing PDF\n",
    "\n",
    "ss = 0.0401\n",
    "se = 2.0e-05\n",
    "sw = 10000\n",
    "\n",
    "#Signal PDF\n",
    "# # mean_p = ROOT.RooRealVar(\"mean_p\", \"mean_p\", 0.548, 0.5, 0.6)\n",
    "# mean_p = ROOT.RooRealVar(\"mean_p\", \"mean_p\", 0.55, 0.5, 0.6)\n",
    "# # sigma_p = ROOT.RooRealVar(\"sigma_p\", \"sigma_p\", 4.0e-02, 4.0e-02 - 100*2.0e-04, 4.0e-02 + 100*2.0e-04)\n",
    "# sigma_p = ROOT.RooRealVar(\"sigma_p\", \"sigma_p\", ss, ss-sw*se, ss+sw*se)\n",
    "\n",
    "# gx_p = ROOT.RooGaussian(\"gauss_pass\", \"gauss_pass\", x, mean_p, sigma_p)\n",
    "\n",
    "a1_p = ROOT.RooRealVar(\"a1_p\", \"a1_p\", 0.5, 0.01, 10.)\n",
    "a2_p = ROOT.RooRealVar(\"a2_p\", \"a2_p\", 0.5, 0.01, 10.)\n",
    "n1_p = ROOT.RooRealVar(\"n1_p\", \"n1_p\", 1000, 1, 1e7)\n",
    "n2_p = ROOT.RooRealVar(\"n2_p\", \"n2_p\", 1000, 1, 1e7)\n",
    "mean_p = ROOT.RooRealVar(\"mean_p\", \"mean_p\", 0.55, 0.5, 0.6)\n",
    "sigma1_p = ROOT.RooRealVar(\"sigma1_p\", \"sigma1_p\", ss, ss-sw*se, ss+sw*se)\n",
    "sigma2_p = ROOT.RooRealVar(\"sigma2_p\", \"sigma2_p\", ss, ss-sw*se, ss+sw*se)\n",
    "gx_p = ROOT.RooCrystalBall(\"cb_pass\", \"cb_pass\", x, mean_p, sigma1_p, sigma2_p, a1_p, n1_p, a2_p, n2_p)\n",
    "\n",
    "#Background PDF\n",
    "#Power \n",
    "if 'data' in dgq:\n",
    "    a0_p = ROOT.RooRealVar(\"a0_p\", \"a0_p\", 10, -100, 100)\n",
    "    a1_p = ROOT.RooRealVar(\"a1_p\", \"a1_p\", 1, -10, 10)\n",
    "\n",
    "    px_p = ROOT.mypow(\"px_p\", \"px_p\", x, a0_p, a1_p)\n",
    "    \n",
    "else:\n",
    "\n",
    "    # Argus\n",
    "    m_p = ROOT.RooRealVar(\"m_p\", \"m_p\", 10, 0, 100)\n",
    "    m0_p = ROOT.RooRealVar(\"m0_p\", \"m0_p\", -1, -100, 10)\n",
    "    c_p = ROOT.RooRealVar(\"c_p\", \"c_p\", 1, -100, 100)\n",
    "    px_p = ROOT.RooArgusBG(\"px_p\", \"px_p\", x, m_p, m0_p, c_p)\n",
    "\n",
    "\n",
    "# Construct composite pdf\n",
    "f_p = ROOT.RooRealVar(\"f_p\", \"f_p\", 0.2, 0.0, 1.0)\n",
    "model_p = ROOT.RooAddPdf(\"model_p\", \"model_p\", ROOT.RooArgList(gx_p, px_p), ROOT.RooArgList(f_p))\n",
    "\n",
    "# model_p.fitTo(data_pass)\n",
    "\n",
    "a_p = ROOT.RooRealVar(\"a_p\",\"a_p\", passhist.Integral())\n",
    "p_ext = ROOT.RooExtendPdf(\"modelp\",\"modelp\",model_p,a_p)\n",
    "\n",
    "# p_ext.fitTo(data_pass)"
   ]
  },
  {
   "cell_type": "code",
   "execution_count": 13,
   "metadata": {},
   "outputs": [
    {
     "ename": "NameError",
     "evalue": "name 'gx_p' is not defined",
     "output_type": "error",
     "traceback": [
      "\u001b[0;31m\u001b[0m",
      "\u001b[0;31mNameError\u001b[0mTraceback (most recent call last)",
      "\u001b[0;32m<ipython-input-13-f1a29ec95c8d>\u001b[0m in \u001b[0;36m<module>\u001b[0;34m()\u001b[0m\n\u001b[1;32m     23\u001b[0m \u001b[0;31m# Construct composite pdf\u001b[0m\u001b[0;34m\u001b[0m\u001b[0;34m\u001b[0m\u001b[0m\n\u001b[1;32m     24\u001b[0m \u001b[0mf_f\u001b[0m \u001b[0;34m=\u001b[0m \u001b[0mROOT\u001b[0m\u001b[0;34m.\u001b[0m\u001b[0mRooRealVar\u001b[0m\u001b[0;34m(\u001b[0m\u001b[0;34m\"f_f\"\u001b[0m\u001b[0;34m,\u001b[0m \u001b[0;34m\"f_f\"\u001b[0m\u001b[0;34m,\u001b[0m \u001b[0;36m0.2\u001b[0m\u001b[0;34m,\u001b[0m \u001b[0;36m0.0\u001b[0m\u001b[0;34m,\u001b[0m \u001b[0;36m1.0\u001b[0m\u001b[0;34m)\u001b[0m\u001b[0;34m\u001b[0m\u001b[0m\n\u001b[0;32m---> 25\u001b[0;31m \u001b[0mmodel_f\u001b[0m \u001b[0;34m=\u001b[0m \u001b[0mROOT\u001b[0m\u001b[0;34m.\u001b[0m\u001b[0mRooAddPdf\u001b[0m\u001b[0;34m(\u001b[0m\u001b[0;34m\"model_f\"\u001b[0m\u001b[0;34m,\u001b[0m \u001b[0;34m\"model_f\"\u001b[0m\u001b[0;34m,\u001b[0m \u001b[0mROOT\u001b[0m\u001b[0;34m.\u001b[0m\u001b[0mRooArgList\u001b[0m\u001b[0;34m(\u001b[0m\u001b[0mgx_p\u001b[0m\u001b[0;34m,\u001b[0m \u001b[0mpx_f\u001b[0m\u001b[0;34m)\u001b[0m\u001b[0;34m,\u001b[0m \u001b[0mROOT\u001b[0m\u001b[0;34m.\u001b[0m\u001b[0mRooArgList\u001b[0m\u001b[0;34m(\u001b[0m\u001b[0mf_f\u001b[0m\u001b[0;34m)\u001b[0m\u001b[0;34m)\u001b[0m\u001b[0;34m\u001b[0m\u001b[0m\n\u001b[0m\u001b[1;32m     26\u001b[0m \u001b[0;34m\u001b[0m\u001b[0m\n\u001b[1;32m     27\u001b[0m \u001b[0ma_f\u001b[0m \u001b[0;34m=\u001b[0m \u001b[0mROOT\u001b[0m\u001b[0;34m.\u001b[0m\u001b[0mRooRealVar\u001b[0m\u001b[0;34m(\u001b[0m\u001b[0;34m\"a_f\"\u001b[0m\u001b[0;34m,\u001b[0m\u001b[0;34m\"a_f\"\u001b[0m\u001b[0;34m,\u001b[0m \u001b[0mfailhist\u001b[0m\u001b[0;34m.\u001b[0m\u001b[0mIntegral\u001b[0m\u001b[0;34m(\u001b[0m\u001b[0;34m)\u001b[0m\u001b[0;34m)\u001b[0m\u001b[0;34m\u001b[0m\u001b[0m\n",
      "\u001b[0;31mNameError\u001b[0m: name 'gx_p' is not defined"
     ]
    }
   ],
   "source": [
    "#Background\n",
    "# #Power \n",
    "#Power \n",
    "if 'data' in dgq:\n",
    "    a0_f = ROOT.RooRealVar(\"a0_f\", \"a0_f\", 10, -100, 100)\n",
    "    a1_f = ROOT.RooRealVar(\"a1_f\", \"a1_f\", 1, -10, 10)\n",
    "\n",
    "    px_f = ROOT.mypow(\"px_f\", \"px_f\", x, a0_f, a1_f)\n",
    "    \n",
    "else:\n",
    "   \n",
    "    # Argus\n",
    "    m_f = ROOT.RooRealVar(\"m_f\", \"m_f\", 10, 0, 100)\n",
    "    m0_f = ROOT.RooRealVar(\"m0_f\", \"m0_f\", -1, -100, 100)\n",
    "    c_f = ROOT.RooRealVar(\"c_f\", \"c_f\", 1, -100, 100)\n",
    "    px_f = ROOT.RooArgusBG(\"px_f\", \"px_f\", x, m_f, m0_f, c_f)\n",
    "\n",
    "\n",
    "# #Polynomial\n",
    "# p = ROOT.RooRealVar(\"coeff\",\"coeff\",0,-10,10)\n",
    "# px_f = ROOT.RooPolynomial(\"poly\",\"poly\",x,p,lowestorder=3)\n",
    "\n",
    "# Construct composite pdf\n",
    "f_f = ROOT.RooRealVar(\"f_f\", \"f_f\", 0.2, 0.0, 1.0)\n",
    "model_f = ROOT.RooAddPdf(\"model_f\", \"model_f\", ROOT.RooArgList(gx_p, px_f), ROOT.RooArgList(f_f))\n",
    "\n",
    "a_f = ROOT.RooRealVar(\"a_f\",\"a_f\", failhist.Integral())\n",
    "f_ext = ROOT.RooExtendPdf(\"modelf\",\"modelf\",model_f,a_f)\n",
    "\n"
   ]
  },
  {
   "cell_type": "code",
   "execution_count": 14,
   "metadata": {},
   "outputs": [
    {
     "data": {
      "text/plain": [
       "False"
      ]
     },
     "execution_count": 14,
     "metadata": {},
     "output_type": "execute_result"
    }
   ],
   "source": [
    "# Define category to distinguish physics and control samples events\n",
    "sample = ROOT.RooCategory(\"sample\", \"sample\")\n",
    "sample.defineType(\"pass\")\n",
    "sample.defineType(\"fail\")"
   ]
  },
  {
   "cell_type": "code",
   "execution_count": null,
   "metadata": {},
   "outputs": [],
   "source": [
    "# Construct combined dataset in (x,sample)\n",
    "combData = ROOT.RooDataHist(\n",
    "    \"combData\",\n",
    "    \"combined data\",\n",
    "    ROOT.RooArgList(x),\n",
    "    ROOT.RooFit.Index(sample),\n",
    "    ROOT.RooFit.Import(\"pass\", passhist),\n",
    "    ROOT.RooFit.Import(\"fail\", failhist),\n",
    ")\n",
    " "
   ]
  },
  {
   "cell_type": "code",
   "execution_count": null,
   "metadata": {},
   "outputs": [],
   "source": [
    "# Construct a simultaneous pdf using category sample as index\n",
    "simPdf = ROOT.RooSimultaneous(\"simPdf\", \"simultaneous pdf\", sample)\n",
    "\n",
    "# Associate model with the physics state and model_ctl with the control\n",
    "# state\n",
    "# simPdf.addPdf(model_p, \"pass\")\n",
    "# simPdf.addPdf(model_f, \"fail\")\n",
    "simPdf.addPdf(p_ext, \"pass\")\n",
    "simPdf.addPdf(f_ext, \"fail\")"
   ]
  },
  {
   "cell_type": "code",
   "execution_count": null,
   "metadata": {},
   "outputs": [],
   "source": [
    "abc = simPdf.fitTo(combData, ROOT.RooFit.Save())\n"
   ]
  },
  {
   "cell_type": "code",
   "execution_count": null,
   "metadata": {},
   "outputs": [],
   "source": [
    "# simPdf.minNll()"
   ]
  },
  {
   "cell_type": "code",
   "execution_count": null,
   "metadata": {},
   "outputs": [],
   "source": [
    "if(dgq=='qcd'):color = 46\n",
    "if(dgq=='gjets'): color= 30\n",
    "elif(dgq=='mc'):color = 6\n",
    "else: color = 4"
   ]
  },
  {
   "cell_type": "code",
   "execution_count": null,
   "metadata": {},
   "outputs": [],
   "source": [
    "frame1 = x.frame(ROOT.RooFit.Title(\"Pass sample, {}\".format(dgq)))"
   ]
  },
  {
   "cell_type": "code",
   "execution_count": null,
   "metadata": {},
   "outputs": [],
   "source": [
    "combData.plotOn(frame1, ROOT.RooFit.Cut(\"sample==sample::pass\"),  ROOT.RooFit.Name(\"combData\"), ROOT.RooFit.DataError(ROOT.RooAbsData.SumW2))"
   ]
  },
  {
   "cell_type": "code",
   "execution_count": null,
   "metadata": {},
   "outputs": [],
   "source": [
    "sampleSet = ROOT.RooArgSet(sample)\n",
    "\n",
    "simPdf.plotOn(frame1, ROOT.RooFit.Slice(sample, \"pass\"), \n",
    "              ROOT.RooFit.ProjWData(sampleSet, combData),\n",
    "              ROOT.RooFit.LineColor(color),\n",
    "              ROOT.RooFit.Name(\"simPdf\")\n",
    "             )\n",
    "\n",
    "\n",
    "simPdf.plotOn(frame1, \n",
    "              ROOT.RooFit.Slice(sample, \"pass\"), \n",
    "              ROOT.RooFit.Components(\"px_p\"), \n",
    "              ROOT.RooFit.ProjWData(sampleSet, combData), \n",
    "              ROOT.RooFit.LineStyle(ROOT.kDashed),\n",
    "              ROOT.RooFit.LineColor(color)\n",
    "             )\n",
    "\n"
   ]
  },
  {
   "cell_type": "code",
   "execution_count": null,
   "metadata": {},
   "outputs": [],
   "source": [
    "frame2 = x.frame(ROOT.RooFit.Title(\"Fail sample, {}\".format(dgq)))\n",
    "combData.plotOn(frame2, ROOT.RooFit.Cut(\"sample==sample::fail\"),  ROOT.RooFit.Name(\"combData\"))\n",
    "simPdf.plotOn(frame2, ROOT.RooFit.Slice(sample, \"fail\"), \n",
    "              ROOT.RooFit.ProjWData(sampleSet, combData),\n",
    "#               ROOT.RooFit.LineStyle(ROOT.kDashed),\n",
    "              ROOT.RooFit.LineColor(color),\n",
    "              ROOT.RooFit.Name(\"simPdf\")\n",
    "             )\n",
    "\n",
    "simPdf.plotOn(frame2, \n",
    "              ROOT.RooFit.Slice(sample, \"fail\"), \n",
    "              ROOT.RooFit.Components(\"px_f\"), \n",
    "              ROOT.RooFit.ProjWData(sampleSet, combData), \n",
    "              ROOT.RooFit.LineStyle(ROOT.kDashed),\n",
    "              ROOT.RooFit.LineColor(color)\n",
    "             )\n",
    "\n",
    "# c = ROOT.TCanvas(\"rf501_simultaneouspdf\", \"rf501_simultaneouspdf\", 1200, 600)\n",
    "# c.Divide(2,1)\n",
    "# c.cd(1)\n",
    "# ROOT.gPad.SetLeftMargin(0.15)\n",
    "# ROOT.gStyle.SetOptFit(1111)\n",
    "# frame1.GetYaxis().SetTitleOffset(1.4)\n",
    "# frame1.SetLineColor(color)\n",
    "# frame1.GetYaxis().SetRangeUser(0.75*passhist.GetMinimum(), 1.15 * passhist.GetMaximum())\n",
    "# frame1.Draw()\n",
    "# c.Update()\n",
    "\n",
    "# c.cd(2)\n",
    "# ROOT.gPad.SetLeftMargin(0.15)\n",
    "# frame2.GetYaxis().SetTitleOffset(1.4)\n",
    "# frame1.SetLineColor(color)\n",
    "# frame2.GetYaxis().SetRangeUser(0.75*failhist.GetMinimum(), 1.15 * failhist.GetMaximum())\n",
    "# frame2.Draw()\n",
    "\n",
    "# c.SaveAs(\"simultaneouspdf_{}.png\".format(dgq))"
   ]
  },
  {
   "cell_type": "code",
   "execution_count": null,
   "metadata": {},
   "outputs": [],
   "source": [
    "eff = ROOT.RooFormulaVar(\"eff\", \"(a_p * f_p) / (a_f * f_f + a_p * f_p) \", ROOT.RooArgList(a_p, f_p, a_f, f_f))\n"
   ]
  },
  {
   "cell_type": "code",
   "execution_count": null,
   "metadata": {},
   "outputs": [],
   "source": [
    "p = f_p.getVal()\n",
    "f = f_f.getVal()\n",
    "\n",
    "dp = f_p.getError()\n",
    "df = f_f.getError()\n",
    "\n",
    "a = f+p\n",
    "da = np.sqrt(df*df + dp*dp)"
   ]
  },
  {
   "cell_type": "code",
   "execution_count": null,
   "metadata": {},
   "outputs": [],
   "source": [
    "deffoeff = np.sqrt( (dp/p)**2 + (da / a)**2 )\n",
    "deff = deffoeff * eff.getVal()"
   ]
  },
  {
   "cell_type": "code",
   "execution_count": null,
   "metadata": {},
   "outputs": [],
   "source": [
    "print(\"Efficiency is: {:.4f} +/- {:.4f} %\".format(eff.getVal()*100, deff*100))"
   ]
  },
  {
   "cell_type": "code",
   "execution_count": null,
   "metadata": {},
   "outputs": [],
   "source": [
    "dmu = 54.9157 #Data efficiency and uncertainty\n",
    "dmu_err = 0.6363\n",
    "\n",
    "gmu = 53.1811 #GJets efficiency and uncertainty\n",
    "gmu_err = 9.4408\n",
    "\n",
    "# y = 55.0452 #GJets efficiency and uncertainty with weights\n",
    "# dy = 10.4371\n",
    "\n",
    "z = dmu/gmu\n",
    "dz = z * np.sqrt( (dmu_err/gmu)**2 + (gmu_err/gmu)**2 )\n",
    "\n",
    "print(\"Scale Factor is {:.4f} +\\- {:.4f}\".format(z, dz))"
   ]
  },
  {
   "cell_type": "code",
   "execution_count": null,
   "metadata": {},
   "outputs": [],
   "source": [
    "np.sqrt((19. / 54.)**2)"
   ]
  },
  {
   "cell_type": "code",
   "execution_count": null,
   "metadata": {},
   "outputs": [],
   "source": [
    "f_p.getVal()"
   ]
  },
  {
   "cell_type": "code",
   "execution_count": null,
   "metadata": {},
   "outputs": [],
   "source": [
    "print(\"Pass Values:\")\n",
    "print(\"Norm: {}\".format(a_p.getVal()))\n",
    "print(\"\\nGaussian: \")\n",
    "print(\"mu = {:.4f} +/- {:.4f}\".format(mean_p.getVal(), mean_p.getError()))\n",
    "print(\"sigma = {:.4f} +/- {:.4f}\".format(sigma_p.getVal(), sigma_p.getError()))\n",
    "\n",
    "\n",
    "print(\"\\nBackground: \")\n",
    "\n",
    "if 'data' in dgq:\n",
    "    print(\"p0 = {:.2f} +/- {:.2f}\".format(a0_p.getVal(), a0_p.getError()))\n",
    "    print(\"p1 = {:.2f} +/- {:.2f}\".format(a1_p.getVal(), a1_p.getError()))\n",
    "   \n",
    "else:\n",
    "    # Argus\n",
    "    print(\"m = {:.2f} +/- {:.2f}\".format(m_p.getVal(), m_p.getError()))\n",
    "    print(\"m0 = {:.2f} +/- {:.2f}\".format(m0_p.getVal(), m0_p.getError()))\n",
    "    print(\"c = {:.2f} +/- {:.2f}\".format(c_p.getVal(), c_p.getError()))\n",
    "    \n"
   ]
  },
  {
   "cell_type": "code",
   "execution_count": null,
   "metadata": {},
   "outputs": [],
   "source": [
    "print(ss-sw*se)\n",
    "print(ss+sw*se)"
   ]
  },
  {
   "cell_type": "code",
   "execution_count": null,
   "metadata": {},
   "outputs": [],
   "source": [
    "print(\"Fail Values:\")\n",
    "print(\"Norm: {}\".format(a_f.getVal()))\n",
    "print(\"\\nGaussian\")\n",
    "print(\"mu = {:.4f} +/- {:.4f}\".format(mean_p.getVal(), mean_p.getError()))\n",
    "print(\"sigma = {:.4f} +/- {:.4f}\".format(sigma_p.getVal(), sigma_p.getError()))\n",
    "\n",
    "print(\"\\nBackground: \")\n",
    "\n",
    "if 'data' in dgq:\n",
    "    print(\"p0 = {:.2f} +/- {:.2f}\".format(a0_f.getVal(), a0_f.getError()))\n",
    "    print(\"p1 = {:.3f} +/- {:.3f}\".format(a1_f.getVal(), a1_f.getError()))\n",
    "   \n",
    "else:\n",
    "    # Argus\n",
    "    print(\"m = {:.2f} +/- {:.2f}\".format(m_f.getVal(), m_f.getError()))\n",
    "    print(\"m0 = {:.2f} +/- {:.2f}\".format(m0_f.getVal(), m0_f.getError()))\n",
    "    print(\"c = {:.2f} +/- {:.2f}\".format(c_f.getVal(), c_f.getError()))\n",
    "\n"
   ]
  },
  {
   "cell_type": "code",
   "execution_count": null,
   "metadata": {
    "scrolled": true
   },
   "outputs": [],
   "source": [
    "# pl = p_ext.getParameters(data_pass).contentsString().split(\",\")\n",
    "# fl = f_ext.getParameters(data_pass).contentsString().split(\",\")\n",
    "# cc = 0\n",
    "# for ff in fl: \n",
    "#     if(ff not in pl): cc += 1\n",
    "# nparams = len(pl) + cc\n",
    "\n",
    "if 'data' in dgq:\n",
    "    nparams = 8\n",
    "else: \n",
    "    nparams = 10\n",
    "    \n",
    "# chi2 = frame1.chiSquare(\"simPdf\", \"combData\" )\n",
    "# print(\"Chi2 / ndof is {}\".format(chi2))\n",
    "# chi2 = frame2.chiSquare(\"simPdf\", \"combData\")\n",
    "# print(\"Chi2 / ndof is {}\".format(chi2))\n",
    "    \n",
    "chi2 = frame1.chiSquare(\"simPdf\", \"combData\", nparams)\n",
    "print(\"Chi2 / ndof is {}\".format(chi2))\n",
    "chi2 = frame2.chiSquare(\"simPdf\", \"combData\", nparams)\n",
    "print(\"Chi2 / ndof is {}\".format(chi2))"
   ]
  },
  {
   "cell_type": "code",
   "execution_count": null,
   "metadata": {},
   "outputs": [],
   "source": [
    "\n",
    "hpull = frame1.pullHist(\"combData\", \"simPdf\")\n",
    "frame1P = x.frame(ROOT.RooFit.Title(\"\"))\n",
    "frame1P.addPlotable(hpull, \"P\")\n",
    "\n",
    "hpull2 = frame2.pullHist(\"combData\", \"simPdf\")\n",
    "frame2P = x.frame(ROOT.RooFit.Title(\"\"))\n",
    "frame2P.addPlotable(hpull2, \"P\")\n",
    "\n",
    "# cA = ROOT.TCanvas(\"simPull\", \"simPull\", 1200, 600)\n",
    "cA = ROOT.TCanvas(\"simPull\", \"simPull\", 600, 600)\n",
    "# cA.Divide(2,1)\n",
    "\n",
    "cA.cd(1)\n",
    "\n",
    "p12 = ROOT.TPad(\"pad1\", \"tall\",0,0.165,1,1)\n",
    "p22 = ROOT.TPad(\"pad2\", \"short\",0,0.0,1.0,0.23)\n",
    "p22.SetBottomMargin(0.35)\n",
    "p12.Draw()\n",
    "p22.Draw()\n",
    "\n",
    "p12.cd()\n",
    "ROOT.gPad.SetLeftMargin(0.15)\n",
    "ROOT.gStyle.SetOptFit(1111)\n",
    "frame1.SetTitle(\"Pass Sample, 2016 Data\")\n",
    "frame1.GetYaxis().SetTitleOffset(1.4)\n",
    "frame1.SetLineColor(color)\n",
    "passhist.GetXaxis().SetRangeUser(rlow, rhigh)\n",
    "frame1.GetYaxis().SetRangeUser(0.75*passhist.GetMinimum(), 1.15 * passhist.GetMaximum())\n",
    "frame1.GetXaxis().SetLabelOffset(999)\n",
    "frame1.GetXaxis().SetLabelSize(0)\n",
    "frame1.Draw()\n",
    "\n",
    "p22.cd()\n",
    "ROOT.gPad.SetLeftMargin(0.15)\n",
    "frame1P.SetTitle(\";Mass(GeV);#frac{Data - Fit}{Uncertainty}\")\n",
    "frame1P.GetYaxis().SetLabelSize(0.11)\n",
    "frame1P.GetXaxis().SetLabelSize(0.15)\n",
    "frame1P.GetXaxis().SetTitleSize(0.15)\n",
    "frame1P.GetYaxis().SetTitleOffset(0.3)\n",
    "frame1P.GetYaxis().SetTitleSize(0.125)\n",
    "frame1P.Draw()\n",
    "\n",
    "# L1 = ROOT.TLine(rlow-0.005, 0, rhigh+0.005, 0)\n",
    "# L1.SetLineColor(12)\n",
    "# L1.Draw(\"same\")\n",
    "\n",
    "##############################################################\n",
    "\n"
   ]
  },
  {
   "cell_type": "code",
   "execution_count": null,
   "metadata": {},
   "outputs": [],
   "source": [
    "# cA.cd(2)\n",
    "\n",
    "# p12 = ROOT.TPad(\"pad1\", \"tall\",0,0.165,1,1)\n",
    "# p22 = ROOT.TPad(\"pad2\", \"short\",0,0.0,1.0,0.23)\n",
    "# p22.SetBottomMargin(0.35)\n",
    "# p12.Draw()\n",
    "# p22.Draw()\n",
    "\n",
    "# p12.cd()\n",
    "# ROOT.gPad.SetLeftMargin(0.15)\n",
    "# ROOT.gStyle.SetOptFit(1111)\n",
    "# frame2.GetYaxis().SetTitleOffset(1.4)\n",
    "# frame2.SetLineColor(color)\n",
    "# failhist.GetXaxis().SetRangeUser(rlow, rhigh)\n",
    "# frame2.GetYaxis().SetRangeUser(0.75*failhist.GetMinimum(), 1.15 * failhist.GetMaximum())\n",
    "# frame2.GetXaxis().SetLabelOffset(999)\n",
    "# frame2.GetXaxis().SetLabelSize(0)\n",
    "# frame2.Draw()\n",
    "\n",
    "# p22.cd()\n",
    "# ROOT.gPad.SetLeftMargin(0.15)\n",
    "# frame2P.SetTitle(\";Mass(GeV);Data - Fit\")\n",
    "# frame2P.GetYaxis().SetLabelSize(0.11)\n",
    "# frame2P.GetXaxis().SetLabelSize(0.15)\n",
    "# frame2P.GetXaxis().SetTitleSize(0.15)\n",
    "# frame2P.GetYaxis().SetTitleOffset(0.3)\n",
    "# frame2P.GetYaxis().SetTitleSize(0.15)\n",
    "# frame2P.Draw()\n",
    "\n",
    "# L2 = ROOT.TLine(rlow-0.005, 0, rhigh+0.005, 0)\n",
    "# L2.SetLineColor(12)\n",
    "# L2.Draw(\"same\")"
   ]
  },
  {
   "cell_type": "code",
   "execution_count": null,
   "metadata": {
    "scrolled": true
   },
   "outputs": [],
   "source": [
    "gROOT.GetListOfCanvases().Draw()"
   ]
  },
  {
   "cell_type": "code",
   "execution_count": null,
   "metadata": {},
   "outputs": [],
   "source": [
    "print(\"Eta Pass Rate is: {:.4f} +/- {:.4f} %\".format(eff.getVal()*100, deff*100))\n",
    "print(\"mu = {:.4f} +/- {:.4f}\".format(mean_p.getVal(), mean_p.getError()))"
   ]
  },
  {
   "cell_type": "code",
   "execution_count": null,
   "metadata": {},
   "outputs": [],
   "source": [
    "54.35/53.10"
   ]
  },
  {
   "cell_type": "code",
   "execution_count": null,
   "metadata": {},
   "outputs": [],
   "source": [
    "np.sqrt( (0.43/54.35)**2 + (8.8/53.10)**2  )"
   ]
  },
  {
   "cell_type": "code",
   "execution_count": null,
   "metadata": {},
   "outputs": [],
   "source": []
  }
 ],
 "metadata": {
  "kernelspec": {
   "display_name": "Python 2",
   "language": "python",
   "name": "python2"
  },
  "language_info": {
   "codemirror_mode": {
    "name": "ipython",
    "version": 2
   },
   "file_extension": ".py",
   "mimetype": "text/x-python",
   "name": "python",
   "nbconvert_exporter": "python",
   "pygments_lexer": "ipython2",
   "version": "2.7.15+"
  }
 },
 "nbformat": 4,
 "nbformat_minor": 2
}

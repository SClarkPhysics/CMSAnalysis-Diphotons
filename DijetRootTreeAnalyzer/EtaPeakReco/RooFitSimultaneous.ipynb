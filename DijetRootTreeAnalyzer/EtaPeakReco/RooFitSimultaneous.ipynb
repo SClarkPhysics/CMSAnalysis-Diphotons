{
 "cells": [
  {
   "cell_type": "markdown",
   "metadata": {},
   "source": [
    "from https://nbviewer.jupyter.org/url/root.cern/doc/master/notebooks/rf102_dataimport.py.nbconvert.ipynb"
   ]
  },
  {
   "cell_type": "code",
   "execution_count": 1,
   "metadata": {
    "scrolled": true
   },
   "outputs": [
    {
     "name": "stdout",
     "output_type": "stream",
     "text": [
      "Welcome to JupyROOT 6.18/04\n"
     ]
    }
   ],
   "source": [
    "import ROOT\n",
    "from array import array\n",
    "from ROOT import gROOT \n",
    "import numpy as np\n",
    "import os"
   ]
  },
  {
   "cell_type": "markdown",
   "metadata": {},
   "source": [
    "## Trying Simultaneous fit\n",
    "https://root.cern.ch/doc/master/rf501__simultaneouspdf_8py.html"
   ]
  },
  {
   "cell_type": "code",
   "execution_count": 2,
   "metadata": {},
   "outputs": [],
   "source": [
    "# dgq = 'dataRun2'\n",
    "dgq = 'gjets'\n",
    "ee = 'e30_60'"
   ]
  },
  {
   "cell_type": "code",
   "execution_count": 3,
   "metadata": {},
   "outputs": [],
   "source": [
    "if \"data\" in dgq:\n",
    "    if(not os.path.exists(\"mypow_cxx.so\")):\n",
    "        ROOT.RooClassFactory.makePdf(\n",
    "         \"mypow\", \"x,p0,p1\", \"\", \"p0*TMath::Exp(p1*x)\") #Declare function\n",
    "    ROOT.gROOT.ProcessLineSync(\".x mypow.cxx+\") # Compile it for Roofit\n"
   ]
  },
  {
   "cell_type": "code",
   "execution_count": 4,
   "metadata": {},
   "outputs": [],
   "source": [
    "binw = 0.025\n",
    "\n",
    "if 'data' in dgq:\n",
    "    rlow =  0.375 #- 1*binw \n",
    "    rhigh = 0.725 #- 1*binw\n",
    "else:\n",
    "    rlow = 0.375\n",
    "    rhigh = 0.725-0.05\n",
    "    \n",
    "#0.4, 0.68 for 30-60 data and gjets\n",
    "#0.35, 0.7\n",
    "# rlow = 0.4\n",
    "# rhigh = 0.7\n",
    "helpme = 0.02"
   ]
  },
  {
   "cell_type": "code",
   "execution_count": 5,
   "metadata": {},
   "outputs": [],
   "source": [
    "# inFile = ROOT.TFile(\"./{}Out_{}.root\".format(dgq, ee), \"read\")\n",
    "if(\"data\" in dgq):\n",
    "    inFile = ROOT.TFile(\"./NoTrigOutFiles/{}Out_{}.root\".format(dgq, ee), \"read\")\n",
    "elif(dgq==\"gjets\"):\n",
    "    inFile = ROOT.TFile(\"./GJetsFiles/gjetsOut_e30_60_2016.root\",\"read\")\n",
    "\n",
    "    \n",
    "hist_p = inFile.Get(\"mass_pp\")\n",
    "hist_f = inFile.Get(\"mass_ff\")\n",
    "# if(\"data\" in dgq):\n",
    "#     hist_p = inFile.Get(\"mass_pp\")\n",
    "#     hist_f = inFile.Get(\"mass_ff\")\n",
    "# else:\n",
    "#     hist_p = inFile.Get(\"mass\")\n",
    "#     hist_f = inFile.Get(\"fail\")"
   ]
  },
  {
   "cell_type": "code",
   "execution_count": 6,
   "metadata": {},
   "outputs": [],
   "source": [
    "c1 = ROOT.TCanvas(\"c\", \"c\", 800, 800)\n",
    "c1.cd()\n",
    "hist_f.Draw(\"hist\")\n",
    "# gROOT.GetListOfCanvases().Draw()"
   ]
  },
  {
   "cell_type": "code",
   "execution_count": 7,
   "metadata": {},
   "outputs": [],
   "source": [
    "# passhist = ROOT.TH1F(\"pass\", \"diphoton mass ; mass (GeV) ; \", hist_p.GetNbinsX(), hist_p.GetBinCenter(1), hist_p.GetBinCenter(hist_p.GetNbinsX() + 1) )\n",
    "# failhist = ROOT.TH1F(\"fail\", \"diphoton mass ; mass (GeV) ; \", hist_f.GetNbinsX(), hist_f.GetBinCenter(1), hist_f.GetBinCenter(hist_f.GetNbinsX() + 1) )\n",
    "\n",
    "passhist = ROOT.TH1F(\"pass\", \"diphoton mass ; mass (GeV) ; \", hist_p.GetNbinsX(), hist_p.GetBinLowEdge(1), hist_p.GetBinLowEdge(hist_p.GetNbinsX() + 1) )\n",
    "failhist = ROOT.TH1F(\"fail\", \"diphoton mass ; mass (GeV) ; \", hist_f.GetNbinsX(), hist_f.GetBinLowEdge(1), hist_f.GetBinLowEdge(hist_f.GetNbinsX() + 1) )\n",
    "\n",
    "\n",
    "#Pass\n",
    "for i in range(1, hist_p.GetNbinsX()+1):\n",
    "    if(hist_p.GetBinContent(i) < 0): continue\n",
    "    if( hist_p.GetBinCenter(i) >= rlow-helpme and hist_p.GetBinCenter(i) < rhigh):\n",
    "        passhist.SetBinContent(i, hist_p.GetBinContent(i))\n",
    "\n",
    "#Fail\n",
    "for i in range(1, hist_f.GetNbinsX()+1):\n",
    "    if(hist_f.GetBinContent(i) < 0): continue\n",
    "    if( hist_f.GetBinCenter(i) >= rlow-helpme and hist_f.GetBinCenter(i) < rhigh):\n",
    "        failhist.SetBinContent(i, hist_f.GetBinContent(i))\n",
    "\n",
    "        \n",
    "# passhist.GetXaxis().SetRangeUser(rlow, rhigh)\n",
    "# failhist.GetXaxis().SetRangeUser(rlow, rhigh)"
   ]
  },
  {
   "cell_type": "code",
   "execution_count": 8,
   "metadata": {
    "scrolled": true
   },
   "outputs": [
    {
     "name": "stderr",
     "output_type": "stream",
     "text": [
      "Warning in <TCanvas::Constructor>: Deleting canvas with same name: c\n"
     ]
    }
   ],
   "source": [
    "c1 = ROOT.TCanvas(\"c\", \"c\", 400, 400)\n",
    "c1.cd()\n",
    "# failhist.Draw(\"SAME\")\n",
    "passhist.Draw(\"SAME\")\n",
    "# gROOT.GetListOfCanvases().Draw()"
   ]
  },
  {
   "cell_type": "code",
   "execution_count": 9,
   "metadata": {},
   "outputs": [
    {
     "data": {
      "text/plain": [
       "402.0"
      ]
     },
     "execution_count": 9,
     "metadata": {},
     "output_type": "execute_result"
    }
   ],
   "source": [
    "passhist.Integral()"
   ]
  },
  {
   "cell_type": "code",
   "execution_count": 10,
   "metadata": {},
   "outputs": [],
   "source": [
    "x = ROOT.RooRealVar(\"x\", \"x\", rlow+0.02, rhigh)"
   ]
  },
  {
   "cell_type": "code",
   "execution_count": 11,
   "metadata": {},
   "outputs": [
    {
     "name": "stdout",
     "output_type": "stream",
     "text": [
      "[#1] INFO:DataHandling -- RooDataHist::adjustBinning(dh): fit range of variable x expanded to nearest bin boundaries: [0.395,0.675] --> [0.375,0.675]\n"
     ]
    }
   ],
   "source": [
    "data_pass = ROOT.RooDataHist(\"dh\",\"dh\",ROOT.RooArgList(x), passhist)\n",
    "data_fail = ROOT.RooDataHist(\"df\",\"df\",ROOT.RooArgList(x), failhist)"
   ]
  },
  {
   "cell_type": "code",
   "execution_count": 12,
   "metadata": {},
   "outputs": [],
   "source": [
    "#Passing PDF\n",
    "\n",
    "ss = 0.0401\n",
    "se = 2.0e-05\n",
    "sw = 10000\n",
    "\n",
    "#Signal PDF\n",
    "# mean_p = ROOT.RooRealVar(\"mean_p\", \"mean_p\", 0.548, 0.5, 0.6)\n",
    "mean_p = ROOT.RooRealVar(\"mean_p\", \"mean_p\", 0.55, 0.53, 0.6)\n",
    "# sigma_p = ROOT.RooRealVar(\"sigma_p\", \"sigma_p\", 4.0e-02, 4.0e-02 - 100*2.0e-04, 4.0e-02 + 100*2.0e-04)\n",
    "sigma_p = ROOT.RooRealVar(\"sigma_p\", \"sigma_p\", ss, ss-sw*se, ss+sw*se)\n",
    "\n",
    "gx_p = ROOT.RooGaussian(\"gauss_pass\", \"gauss_pass\", x, mean_p, sigma_p)\n",
    "\n",
    "#Background PDF\n",
    "#Power \n",
    "if 'data' in dgq:\n",
    "    a0_p = ROOT.RooRealVar(\"a0_p\", \"a0_p\", 10, -100, 100)\n",
    "    a1_p = ROOT.RooRealVar(\"a1_p\", \"a1_p\", 1, -10, 10)\n",
    "\n",
    "    px_p = ROOT.mypow(\"px_p\", \"px_p\", x, a0_p, a1_p)\n",
    "    \n",
    "else:\n",
    "\n",
    "    # Argus\n",
    "    m_p = ROOT.RooRealVar(\"m_p\", \"m_p\", 10, 0, 100)\n",
    "    m0_p = ROOT.RooRealVar(\"m0_p\", \"m0_p\", -1, -100, 10)\n",
    "    c_p = ROOT.RooRealVar(\"c_p\", \"c_p\", 1, -100, 100)\n",
    "    px_p = ROOT.RooArgusBG(\"px_p\", \"px_p\", x, m_p, m0_p, c_p)\n",
    "\n",
    "\n",
    "# Construct composite pdf\n",
    "f_p = ROOT.RooRealVar(\"f_p\", \"f_p\", 0.2, 0.0, 1.0)\n",
    "model_p = ROOT.RooAddPdf(\"model_p\", \"model_p\", ROOT.RooArgList(gx_p, px_p), ROOT.RooArgList(f_p))\n",
    "\n",
    "# model_p.fitTo(data_pass)\n",
    "\n",
    "a_p = ROOT.RooRealVar(\"a_p\",\"a_p\", passhist.Integral())\n",
    "p_ext = ROOT.RooExtendPdf(\"modelp\",\"modelp\",model_p,a_p)\n",
    "\n",
    "# p_ext.fitTo(data_pass)"
   ]
  },
  {
   "cell_type": "code",
   "execution_count": 13,
   "metadata": {},
   "outputs": [],
   "source": [
    "#Background\n",
    "# #Power \n",
    "#Power \n",
    "if 'data' in dgq:\n",
    "    a0_f = ROOT.RooRealVar(\"a0_f\", \"a0_f\", 10, -100, 100)\n",
    "    a1_f = ROOT.RooRealVar(\"a1_f\", \"a1_f\", 1, -10, 10)\n",
    "\n",
    "    px_f = ROOT.mypow(\"px_f\", \"px_f\", x, a0_f, a1_f)\n",
    "    \n",
    "else:\n",
    "   \n",
    "    # Argus\n",
    "    m_f = ROOT.RooRealVar(\"m_f\", \"m_f\", 10, 0, 100)\n",
    "    m0_f = ROOT.RooRealVar(\"m0_f\", \"m0_f\", -1, -100, 100)\n",
    "    c_f = ROOT.RooRealVar(\"c_f\", \"c_f\", 1, -100, 100)\n",
    "    px_f = ROOT.RooArgusBG(\"px_f\", \"px_f\", x, m_f, m0_f, c_f)\n",
    "\n",
    "\n",
    "# #Polynomial\n",
    "# p = ROOT.RooRealVar(\"coeff\",\"coeff\",0,-10,10)\n",
    "# px_f = ROOT.RooPolynomial(\"poly\",\"poly\",x,p,lowestorder=3)\n",
    "\n",
    "# Construct composite pdf\n",
    "f_f = ROOT.RooRealVar(\"f_f\", \"f_f\", 0.2, 0.0, 1.0)\n",
    "model_f = ROOT.RooAddPdf(\"model_f\", \"model_f\", ROOT.RooArgList(gx_p, px_f), ROOT.RooArgList(f_f))\n",
    "\n",
    "a_f = ROOT.RooRealVar(\"a_f\",\"a_f\", failhist.Integral())\n",
    "f_ext = ROOT.RooExtendPdf(\"modelf\",\"modelf\",model_f,a_f)\n",
    "\n"
   ]
  },
  {
   "cell_type": "code",
   "execution_count": 14,
   "metadata": {},
   "outputs": [
    {
     "data": {
      "text/plain": [
       "False"
      ]
     },
     "execution_count": 14,
     "metadata": {},
     "output_type": "execute_result"
    }
   ],
   "source": [
    "# Define category to distinguish physics and control samples events\n",
    "sample = ROOT.RooCategory(\"sample\", \"sample\")\n",
    "sample.defineType(\"pass\")\n",
    "sample.defineType(\"fail\")"
   ]
  },
  {
   "cell_type": "code",
   "execution_count": 15,
   "metadata": {},
   "outputs": [],
   "source": [
    "# Construct combined dataset in (x,sample)\n",
    "combData = ROOT.RooDataHist(\n",
    "    \"combData\",\n",
    "    \"combined data\",\n",
    "    ROOT.RooArgList(x),\n",
    "    ROOT.RooFit.Index(sample),\n",
    "    ROOT.RooFit.Import(\"pass\", passhist),\n",
    "    ROOT.RooFit.Import(\"fail\", failhist),\n",
    ")\n",
    " "
   ]
  },
  {
   "cell_type": "code",
   "execution_count": 16,
   "metadata": {},
   "outputs": [
    {
     "data": {
      "text/plain": [
       "False"
      ]
     },
     "execution_count": 16,
     "metadata": {},
     "output_type": "execute_result"
    }
   ],
   "source": [
    "# Construct a simultaneous pdf using category sample as index\n",
    "simPdf = ROOT.RooSimultaneous(\"simPdf\", \"simultaneous pdf\", sample)\n",
    "\n",
    "# Associate model with the physics state and model_ctl with the control\n",
    "# state\n",
    "# simPdf.addPdf(model_p, \"pass\")\n",
    "# simPdf.addPdf(model_f, \"fail\")\n",
    "simPdf.addPdf(p_ext, \"pass\")\n",
    "simPdf.addPdf(f_ext, \"fail\")"
   ]
  },
  {
   "cell_type": "code",
   "execution_count": 17,
   "metadata": {},
   "outputs": [
    {
     "name": "stdout",
     "output_type": "stream",
     "text": [
      "[#1] INFO:Minization -- p.d.f. provides expected number of events, including extended term in likelihood.\n",
      "[#1] INFO:Minization -- RooMinimizer::optimizeConst: activating const optimization\n",
      "RooAbsTestStatistic::initSimMode: creating slave calculator #0 for state pass (12 dataset entries)\n",
      "[#1] INFO:NumericIntegration -- RooRealIntegral::init(px_p_Int[x]) using numeric integrator RooIntegrator1D to calculate Int(x)\n",
      "RooAbsTestStatistic::initSimMode: creating slave calculator #1 for state fail (12 dataset entries)\n",
      "[#1] INFO:NumericIntegration -- RooRealIntegral::init(px_f_Int[x]) using numeric integrator RooIntegrator1D to calculate Int(x)\n",
      "[#1] INFO:Fitting -- RooAbsTestStatistic::initSimMode: created 2 slave calculators.\n",
      "[#1] INFO:NumericIntegration -- RooRealIntegral::init(px_p_Int[x]) using numeric integrator RooIntegrator1D to calculate Int(x)\n",
      "[#1] INFO:NumericIntegration -- RooRealIntegral::init(px_p_Int[x]) using numeric integrator RooIntegrator1D to calculate Int(x)\n",
      "[#1] INFO:Minization --  The following expressions will be evaluated in cache-and-track mode: (gauss_pass,px_p)\n",
      "[#1] INFO:NumericIntegration -- RooRealIntegral::init(px_f_Int[x]) using numeric integrator RooIntegrator1D to calculate Int(x)\n",
      "[#1] INFO:NumericIntegration -- RooRealIntegral::init(px_f_Int[x]) using numeric integrator RooIntegrator1D to calculate Int(x)\n",
      "[#1] INFO:Minization --  The following expressions will be evaluated in cache-and-track mode: (gauss_pass,px_f)\n",
      " **********\n",
      " **    1 **SET PRINT           1\n",
      " **********\n",
      " **********\n",
      " **    2 **SET NOGRAD\n",
      " **********\n",
      " PARAMETER DEFINITIONS:\n",
      "    NO.   NAME         VALUE      STEP SIZE      LIMITS\n",
      "     1 c_f          1.00000e+00  2.00000e+01   -1.00000e+02  1.00000e+02\n",
      "     2 c_p          1.00000e+00  2.00000e+01   -1.00000e+02  1.00000e+02\n",
      "     3 f_f          2.00000e-01  1.00000e-01    0.00000e+00  1.00000e+00\n",
      "     4 f_p          2.00000e-01  1.00000e-01    0.00000e+00  1.00000e+00\n",
      "     5 m0_f        -1.00000e+00  2.00000e+01   -1.00000e+02  1.00000e+02\n",
      "     6 m0_p        -1.00000e+00  5.50000e+00   -1.00000e+02  1.00000e+01\n",
      "     7 m_f          1.00000e+01  5.00000e+00    0.00000e+00  1.00000e+02\n",
      "     8 m_p          1.00000e+01  5.00000e+00    0.00000e+00  1.00000e+02\n",
      "     9 mean_p       5.50000e-01  7.00000e-03    5.30000e-01  6.00000e-01\n",
      "    10 sigma_p      4.01000e-02  4.00000e-02   -1.59900e-01  2.40100e-01\n",
      " **********\n",
      " **    3 **SET ERR         0.5\n",
      " **********\n",
      " **********\n",
      " **    4 **SET PRINT           1\n",
      " **********\n",
      " **********\n",
      " **    5 **SET STR           1\n",
      " **********\n",
      " NOW USING STRATEGY  1: TRY TO BALANCE SPEED AGAINST RELIABILITY\n",
      " **********\n",
      " **    6 **MIGRAD        5000           1\n",
      " **********\n",
      " FIRST CALL TO USER FUNCTION AT NEW START POINT, WITH IFLAG=4.\n",
      " START MIGRAD MINIMIZATION.  STRATEGY  1.  CONVERGENCE WHEN EDM .LT. 1.00e-03\n",
      " FCN=-6899.85 FROM MIGRAD    STATUS=INITIATE       69 CALLS          70 TOTAL\n",
      "                     EDM= unknown      STRATEGY= 1      NO ERROR MATRIX       \n",
      "  EXT PARAMETER               CURRENT GUESS       STEP         FIRST   \n",
      "  NO.   NAME      VALUE            ERROR          SIZE      DERIVATIVE \n",
      "   1  c_f          1.00000e+00   2.00000e+01   0.00000e+00   1.28509e+01\n",
      "   2  c_p          1.00000e+00   2.00000e+01   0.00000e+00  -5.69779e-02\n",
      "   3  f_f          2.00000e-01   1.00000e-01   0.00000e+00  -1.60786e+01\n",
      "   4  f_p          2.00000e-01   1.00000e-01   0.00000e+00  -5.40492e+01\n",
      "   5  m0_f        -1.00000e+00   2.00000e+01   0.00000e+00   1.28140e+01\n",
      "   6  m0_p        -6.42006e+01   5.50000e+00  -1.28391e+00  -2.61036e-02\n",
      "   7  m_f          1.00000e+01   5.00000e+00   0.00000e+00  -1.52296e-02\n",
      "   8  m_p          1.00000e+01   5.00000e+00   0.00000e+00  -2.10594e-01\n",
      "   9  mean_p       5.50000e-01   7.00000e-03   0.00000e+00  -6.39020e+00\n",
      "  10  sigma_p      4.01000e-02   4.00000e-02   0.00000e+00   1.03328e+02\n",
      "                               ERR DEF= 0.5\n",
      " EIGENVALUES OF SECOND-DERIVATIVE MATRIX:\n",
      "        -4.3129e-01  5.4130e-01  1.0000e+00  1.0000e+00  1.0000e+00  1.0014e+00  1.0166e+00  1.1214e+00  1.1496e+00  2.6010e+00\n",
      " MINUIT WARNING IN MIGRAD  \n",
      " ============== MATRIX FORCED POS-DEF BY ADDING 0.433888 TO DIAGONAL.\n",
      " MIGRAD MINIMIZATION HAS CONVERGED.\n",
      " MIGRAD WILL VERIFY CONVERGENCE AND ERROR MATRIX.\n",
      " EIGENVALUES OF SECOND-DERIVATIVE MATRIX:\n",
      "        -3.3379e-01 -1.4761e-02  2.9634e-02  1.0583e-01  3.6983e-01  5.5832e-01  9.4676e-01  1.8156e+00  3.0269e+00  3.4957e+00\n",
      " MINUIT WARNING IN HESSE   \n",
      " ============== MATRIX FORCED POS-DEF BY ADDING 0.337284 TO DIAGONAL.\n",
      " FCN=-6947.11 FROM MIGRAD    STATUS=CONVERGED     642 CALLS         643 TOTAL\n",
      "                     EDM=0.00050946    STRATEGY= 1      ERR MATRIX NOT POS-DEF\n",
      "  EXT PARAMETER                APPROXIMATE        STEP         FIRST   \n",
      "  NO.   NAME      VALUE            ERROR          SIZE      DERIVATIVE \n",
      "   1  c_f         -5.75502e+01   3.22255e+01   1.54820e-02   3.40099e-02\n",
      "   2  c_p         -9.93460e+01   1.66972e+02   4.68252e-01  -1.22655e-04\n",
      "   3  f_f          3.20638e-01   4.73626e-02   5.37107e-03   3.79271e-02\n",
      "   4  f_p          6.97037e-01   7.74982e-02   6.64260e-03  -3.41634e-02\n",
      "   5  m0_f        -7.38705e+01   3.21495e+01   1.90793e-02   2.93215e-02\n",
      "   6  m0_p        -1.35097e+01   9.80902e+01   2.93098e-01  -4.95838e-04\n",
      "   7  m_f          6.52367e+00   7.93223e-01   1.30343e-03   4.14878e-01\n",
      "   8  m_p          1.34483e+01   5.26467e+01   2.26725e-02  -6.43036e-03\n",
      "   9  mean_p       5.49178e-01   1.00531e-02   6.32057e-03  -1.32600e-02\n",
      "  10  sigma_p      4.99901e-02   4.27663e-03   8.76685e-04   1.18196e-01\n",
      "                               ERR DEF= 0.5\n",
      " EXTERNAL ERROR MATRIX.    NDIM=  25    NPAR= 10    ERR DEF=0.5\n",
      "  1.097e+03  7.442e+03  6.222e-02  2.816e-01 -4.755e+02 -1.098e+04 -9.169e+00 -2.862e+02  5.865e-02  1.207e-02 \n",
      "  7.442e+03  1.922e+06  2.956e+01  7.438e+01  7.741e+03 -2.862e+06  1.850e+02 -7.560e+04  1.335e+01  3.501e+00 \n",
      "  6.222e-02  2.956e+01  2.251e-03  1.737e-03  6.695e-02 -4.362e+01  1.557e-03 -1.137e+00  2.272e-04  1.155e-04 \n",
      "  2.816e-01  7.438e+01  1.737e-03  6.064e-03  2.930e-01 -1.098e+02  7.002e-03 -2.864e+00  5.497e-04  2.479e-04 \n",
      " -4.755e+02  7.741e+03  6.695e-02  2.930e-01  1.123e+03 -1.142e+04 -9.488e+00 -2.977e+02  6.100e-02  1.257e-02 \n",
      " -1.098e+04 -2.862e+06 -4.362e+01 -1.098e+02 -1.142e+04  4.313e+06 -2.730e+02  1.113e+05 -1.969e+01 -5.168e+00 \n",
      " -9.169e+00  1.850e+02  1.557e-03  7.002e-03 -9.488e+00 -2.730e+02  6.294e-01 -7.116e+00  1.458e-03  3.003e-04 \n",
      " -2.862e+02 -7.560e+04 -1.137e+00 -2.864e+00 -2.977e+02  1.113e+05 -7.116e+00  3.155e+03 -5.134e-01 -1.348e-01 \n",
      "  5.865e-02  1.335e+01  2.272e-04  5.497e-04  6.100e-02 -1.969e+01  1.458e-03 -5.134e-01  1.048e-04  2.653e-05 \n",
      "  1.207e-02  3.501e+00  1.155e-04  2.479e-04  1.257e-02 -5.168e+00  3.003e-04 -1.348e-01  2.653e-05  1.829e-05 \n",
      "ERR MATRIX NOT POS-DEF\n",
      " PARAMETER  CORRELATION COEFFICIENTS  \n",
      "       NO.  GLOBAL      1      2      3      4      5      6      7      8      9     10\n",
      "        1  0.80842   1.000  0.162  0.040  0.109 -0.428 -0.160 -0.349 -0.154  0.173  0.085\n",
      "        2  0.99785   0.162  1.000  0.449  0.689  0.167 -0.994  0.168 -0.971  0.941  0.590\n",
      "        3  0.60802   0.040  0.449  1.000  0.470  0.042 -0.443  0.041 -0.427  0.468  0.569\n",
      "        4  0.80829   0.109  0.689  0.470  1.000  0.112 -0.679  0.113 -0.655  0.690  0.744\n",
      "        5  0.81072  -0.428  0.167  0.042  0.112  1.000 -0.164 -0.357 -0.158  0.178  0.088\n",
      "        6  0.99562  -0.160 -0.994 -0.443 -0.679 -0.164  1.000 -0.166  0.954 -0.926 -0.582\n",
      "        7  0.79117  -0.349  0.168  0.041  0.113 -0.357 -0.166  1.000 -0.160  0.180  0.088\n",
      "        8  0.97931  -0.154 -0.971 -0.427 -0.655 -0.158  0.954 -0.160  1.000 -0.893 -0.561\n",
      "        9  0.95706   0.173  0.941  0.468  0.690  0.178 -0.926  0.180 -0.893  1.000  0.606\n",
      "       10  0.78844   0.085  0.590  0.569  0.744  0.088 -0.582  0.088 -0.561  0.606  1.000\n",
      " ERR MATRIX NOT POS-DEF\n",
      " **********\n",
      " **    7 **HESSE        5000\n",
      " **********\n",
      " EIGENVALUES OF SECOND-DERIVATIVE MATRIX:\n",
      "        -4.0828e-01  1.0384e-03  6.8405e-03  5.0113e-02  1.0756e-01  5.7042e-01  9.4644e-01  1.8182e+00  3.1218e+00  3.7859e+00\n",
      " MINUIT WARNING IN HESSE   \n",
      " ============== MATRIX FORCED POS-DEF BY ADDING 0.412062 TO DIAGONAL.\n",
      " FCN=-6947.11 FROM HESSE     STATUS=NOT POSDEF     90 CALLS         733 TOTAL\n",
      "                     EDM=0.000428744    STRATEGY= 1      ERR MATRIX NOT POS-DEF\n",
      "  EXT PARAMETER                APPROXIMATE     INTERNAL      INTERNAL  \n",
      "  NO.   NAME      VALUE            ERROR       STEP SIZE       VALUE   \n",
      "   1  c_f         -5.75502e+01   2.91579e+01   3.09640e-03  -6.13218e-01\n",
      "   2  c_p         -9.93460e+01   1.90921e+02   5.00000e-01   1.73932e+01\n",
      "   3  f_f          3.20638e-01   4.32286e-02   1.07421e-03  -3.66901e-01\n",
      "   4  f_p          6.97037e-01   6.80313e-02   1.32852e-03   4.05059e-01\n",
      "   5  m0_f        -7.38705e+01   2.90059e+01   7.63170e-04  -8.31147e-01\n",
      "   6  m0_p        -1.35097e+01   9.77130e+01   1.17239e-02   2.57424e+01\n",
      "   7  m_f          6.52367e+00   7.38815e-01   2.60686e-04  -1.05424e+00\n",
      "   8  m_p          1.34483e+01   5.31134e+01   9.06900e-04  -8.19836e-01\n",
      "   9  mean_p       5.49178e-01   7.87621e-03   2.52823e-04  -4.69075e-01\n",
      "  10  sigma_p      4.99901e-02   3.74718e-03   3.50674e-05   4.94707e-02\n",
      "                               ERR DEF= 0.5\n",
      " EXTERNAL ERROR MATRIX.    NDIM=  25    NPAR= 10    ERR DEF=0.5\n",
      "  8.889e+02  5.036e+03  1.224e-02  1.648e-01 -3.443e+02 -8.177e+03 -8.287e+00 -1.593e+02  3.521e-02  6.208e-03 \n",
      "  5.036e+03  1.597e+06  1.919e+01  5.393e+01  5.006e+03 -2.620e+06  1.263e+02 -5.217e+04  9.138e+00  2.389e+00 \n",
      "  1.224e-02  1.919e+01  1.874e-03  1.112e-03  1.276e-02 -3.121e+01  3.120e-04 -6.098e-01  1.276e-04  7.970e-05 \n",
      "  1.648e-01  5.393e+01  1.112e-03  4.662e-03  1.634e-01 -8.776e+01  4.131e-03 -1.718e+00  3.346e-04  1.740e-04 \n",
      " -3.443e+02  5.006e+03  1.276e-02  1.634e-01  8.991e+02 -8.127e+03 -8.332e+00 -1.583e+02  3.500e-02  6.130e-03 \n",
      " -8.177e+03 -2.620e+06 -3.121e+01 -8.776e+01 -8.127e+03  4.370e+06 -2.050e+02  8.293e+04 -1.484e+01 -3.888e+00 \n",
      " -8.287e+00  1.263e+02  3.120e-04  4.131e-03 -8.332e+00 -2.050e+02  5.460e-01 -3.993e+00  8.828e-04  1.557e-04 \n",
      " -1.593e+02 -5.217e+04 -6.098e-01 -1.718e+00 -1.583e+02  8.293e+04 -3.993e+00  1.952e+03 -2.892e-01 -7.609e-02 \n",
      "  3.521e-02  9.138e+00  1.276e-04  3.346e-04  3.500e-02 -1.484e+01  8.828e-04 -2.892e-01  6.340e-05  1.540e-05 \n",
      "  6.208e-03  2.389e+00  7.970e-05  1.740e-04  6.130e-03 -3.888e+00  1.557e-04 -7.609e-02  1.540e-05  1.404e-05 \n",
      "ERR MATRIX NOT POS-DEF\n",
      " PARAMETER  CORRELATION COEFFICIENTS  \n",
      "       NO.  GLOBAL      1      2      3      4      5      6      7      8      9     10\n",
      "        1  0.77137   1.000  0.134  0.009  0.081 -0.385 -0.131 -0.376 -0.121  0.148  0.056\n",
      "        2  0.99781   0.134  1.000  0.351  0.625  0.132 -0.992  0.135 -0.934  0.908  0.504\n",
      "        3  0.53200   0.009  0.351  1.000  0.376  0.010 -0.345  0.010 -0.319  0.370  0.491\n",
      "        4  0.75698   0.081  0.625  0.376  1.000  0.080 -0.615  0.082 -0.569  0.616  0.680\n",
      "        5  0.77106  -0.385  0.132  0.010  0.080  1.000 -0.130 -0.376 -0.119  0.147  0.055\n",
      "        6  0.99598  -0.131 -0.992 -0.345 -0.615 -0.130  1.000 -0.133  0.898 -0.892 -0.496\n",
      "        7  0.76916  -0.376  0.135  0.010  0.082 -0.376 -0.133  1.000 -0.122  0.150  0.056\n",
      "        8  0.96769  -0.121 -0.934 -0.319 -0.569 -0.119  0.898 -0.122  1.000 -0.822 -0.460\n",
      "        9  0.93193   0.148  0.908  0.370  0.616  0.147 -0.892  0.150 -0.822  1.000  0.516\n",
      "       10  0.73024   0.056  0.504  0.491  0.680  0.055 -0.496  0.056 -0.460  0.516  1.000\n",
      " ERR MATRIX NOT POS-DEF\n",
      " **********\n",
      " **    8 **SET ERR         0.5\n",
      " **********\n",
      " **********\n",
      " **    9 **SET PRINT           1\n",
      " **********\n",
      " **********\n",
      " **   10 **HESSE        5000\n",
      " **********\n",
      " EIGENVALUES OF SECOND-DERIVATIVE MATRIX:\n",
      "        -4.1140e-01  2.0098e-03  3.1246e-03  3.7194e-02  1.0836e-01  5.7118e-01  9.4637e-01  1.8176e+00  3.1262e+00  3.7994e+00\n",
      " MINUIT WARNING IN HESSE   \n",
      " ============== MATRIX FORCED POS-DEF BY ADDING 0.415195 TO DIAGONAL.\n",
      " FCN=-6947.11 FROM HESSE     STATUS=NOT POSDEF     90 CALLS         823 TOTAL\n",
      "                     EDM=0.000424777    STRATEGY= 1      ERR MATRIX NOT POS-DEF\n",
      "  EXT PARAMETER                APPROXIMATE     INTERNAL      INTERNAL  \n",
      "  NO.   NAME      VALUE            ERROR       STEP SIZE       VALUE   \n",
      "   1  c_f         -5.75502e+01   2.90651e+01   6.19279e-04  -6.13218e-01\n",
      "   2  c_p         -9.93460e+01   1.95905e+02   5.00000e-01   1.73932e+01\n",
      "   3  f_f          3.20638e-01   4.30809e-02   2.14843e-04  -3.66901e-01\n",
      "   4  f_p          6.97037e-01   6.76989e-02   2.65704e-04   4.05059e-01\n",
      "   5  m0_f        -7.38705e+01   2.89043e+01   1.52634e-04  -8.31147e-01\n",
      "   6  m0_p        -1.35097e+01   9.76421e+01   2.34478e-03   2.57424e+01\n",
      "   7  m_f          6.52367e+00   7.39166e-01   5.21371e-05  -1.05424e+00\n",
      "   8  m_p          1.34483e+01   5.32829e+01   1.81380e-04  -8.19836e-01\n",
      "   9  mean_p       5.49178e-01   7.81674e-03   5.05646e-05  -4.69075e-01\n",
      "  10  sigma_p      4.99901e-02   3.72776e-03   7.01348e-06   4.94707e-02\n",
      "                               ERR DEF= 0.5\n",
      " EXTERNAL ERROR MATRIX.    NDIM=  25    NPAR= 10    ERR DEF=0.5\n",
      "  8.830e+02  4.951e+03  1.063e-02  1.607e-01 -3.374e+02 -8.054e+03 -8.342e+00 -1.548e+02  3.446e-02  6.010e-03 \n",
      "  4.951e+03  1.591e+06  1.889e+01  5.336e+01  4.960e+03 -2.616e+06  1.249e+02 -5.139e+04  9.038e+00  2.357e+00 \n",
      "  1.063e-02  1.889e+01  1.861e-03  1.092e-03  1.194e-02 -3.078e+01  2.730e-04 -5.933e-01  1.249e-04  7.849e-05 \n",
      "  1.607e-01  5.336e+01  1.092e-03  4.617e-03  1.610e-01 -8.702e+01  4.056e-03 -1.681e+00  3.289e-04  1.715e-04 \n",
      " -3.374e+02  4.960e+03  1.194e-02  1.610e-01  8.924e+02 -8.070e+03 -8.352e+00 -1.551e+02  3.452e-02  6.012e-03 \n",
      " -8.054e+03 -2.616e+06 -3.078e+01 -8.702e+01 -8.070e+03  4.373e+06 -2.032e+02  8.175e+04 -1.471e+01 -3.843e+00 \n",
      " -8.342e+00  1.249e+02  2.730e-04  4.056e-03 -8.352e+00 -2.032e+02  5.465e-01 -3.905e+00  8.696e-04  1.517e-04 \n",
      " -1.548e+02 -5.139e+04 -5.933e-01 -1.681e+00 -1.551e+02  8.175e+04 -3.905e+00  1.913e+03 -2.827e-01 -7.422e-02 \n",
      "  3.446e-02  9.038e+00  1.249e-04  3.289e-04  3.452e-02 -1.471e+01  8.696e-04 -2.827e-01  6.242e-05  1.510e-05 \n",
      "  6.010e-03  2.357e+00  7.849e-05  1.715e-04  6.012e-03 -3.843e+00  1.517e-04 -7.422e-02  1.510e-05  1.390e-05 \n",
      "ERR MATRIX NOT POS-DEF\n",
      " PARAMETER  CORRELATION COEFFICIENTS  \n",
      "       NO.  GLOBAL      1      2      3      4      5      6      7      8      9     10\n",
      "        1  0.77020   1.000  0.132  0.008  0.080 -0.380 -0.130 -0.380 -0.119  0.147  0.054\n",
      "        2  0.99780   0.132  1.000  0.347  0.623  0.132 -0.992  0.134 -0.932  0.907  0.501\n",
      "        3  0.52885   0.008  0.347  1.000  0.372  0.009 -0.341  0.009 -0.314  0.366  0.488\n",
      "        4  0.75481   0.080  0.623  0.372  1.000  0.079 -0.612  0.081 -0.566  0.613  0.677\n",
      "        5  0.76965  -0.380  0.132  0.009  0.079  1.000 -0.129 -0.378 -0.119  0.146  0.054\n",
      "        6  0.99599  -0.130 -0.992 -0.341 -0.612 -0.129  1.000 -0.131  0.894 -0.890 -0.493\n",
      "        7  0.77000  -0.380  0.134  0.009  0.081 -0.378 -0.131  1.000 -0.121  0.149  0.055\n",
      "        8  0.96708  -0.119 -0.932 -0.314 -0.566 -0.119  0.894 -0.121  1.000 -0.818 -0.455\n",
      "        9  0.93099   0.147  0.907  0.366  0.613  0.146 -0.890  0.149 -0.818  1.000  0.513\n",
      "       10  0.72760   0.054  0.501  0.488  0.677  0.054 -0.493  0.055 -0.455  0.513  1.000\n",
      " ERR MATRIX NOT POS-DEF\n",
      "[#1] INFO:Minization -- RooMinimizer::optimizeConst: deactivating const optimization\n"
     ]
    }
   ],
   "source": [
    "abc = simPdf.fitTo(combData, ROOT.RooFit.Save())\n"
   ]
  },
  {
   "cell_type": "code",
   "execution_count": 18,
   "metadata": {},
   "outputs": [],
   "source": [
    "# simPdf.minNll()"
   ]
  },
  {
   "cell_type": "code",
   "execution_count": 19,
   "metadata": {},
   "outputs": [],
   "source": [
    "if(dgq=='qcd'):color = 46\n",
    "if(dgq=='gjets'): color= 30\n",
    "elif(dgq=='mc'):color = 6\n",
    "else: color = 4"
   ]
  },
  {
   "cell_type": "code",
   "execution_count": 20,
   "metadata": {},
   "outputs": [],
   "source": [
    "frame1 = x.frame(ROOT.RooFit.Title(\"Pass sample, {}\".format(dgq)))"
   ]
  },
  {
   "cell_type": "code",
   "execution_count": 21,
   "metadata": {},
   "outputs": [
    {
     "data": {
      "text/plain": [
       "<ROOT.RooPlot object (\"frame_x_7064d20\") at 0x7064d20>"
      ]
     },
     "execution_count": 21,
     "metadata": {},
     "output_type": "execute_result"
    },
    {
     "name": "stdout",
     "output_type": "stream",
     "text": [
      "[#1] INFO:Plotting -- RooTreeData::plotOn: plotting 394 events out of 1148 total events\n"
     ]
    }
   ],
   "source": [
    "combData.plotOn(frame1, ROOT.RooFit.Cut(\"sample==sample::pass\"),  ROOT.RooFit.Name(\"combData\"), ROOT.RooFit.DataError(ROOT.RooAbsData.SumW2))"
   ]
  },
  {
   "cell_type": "code",
   "execution_count": 22,
   "metadata": {},
   "outputs": [
    {
     "data": {
      "text/plain": [
       "<ROOT.RooPlot object (\"frame_x_7064d20\") at 0x7064d20>"
      ]
     },
     "execution_count": 22,
     "metadata": {},
     "output_type": "execute_result"
    },
    {
     "name": "stdout",
     "output_type": "stream",
     "text": [
      "[#1] INFO:Plotting -- RooSimultaneous::plotOn(simPdf) plot on x represents a slice in the index category (sample)\n",
      "[#1] INFO:Plotting -- RooAbsReal::plotOn(modelp) slice variable sample was not projected anyway\n",
      "[#1] INFO:NumericIntegration -- RooRealIntegral::init(px_p_Int[x]) using numeric integrator RooIntegrator1D to calculate Int(x)\n",
      "[#1] INFO:Plotting -- RooSimultaneous::plotOn(simPdf) plot on x represents a slice in the index category (sample)\n",
      "[#1] INFO:Plotting -- RooAbsPdf::plotOn(modelp) directly selected PDF components: (px_p)\n",
      "[#1] INFO:Plotting -- RooAbsPdf::plotOn(modelp) indirectly selected PDF components: (model_p)\n",
      "[#1] INFO:Plotting -- RooAbsReal::plotOn(modelp) slice variable sample was not projected anyway\n",
      "[#1] INFO:NumericIntegration -- RooRealIntegral::init(px_p_Int[x]) using numeric integrator RooIntegrator1D to calculate Int(x)\n"
     ]
    }
   ],
   "source": [
    "sampleSet = ROOT.RooArgSet(sample)\n",
    "\n",
    "simPdf.plotOn(frame1, ROOT.RooFit.Slice(sample, \"pass\"), \n",
    "              ROOT.RooFit.ProjWData(sampleSet, combData),\n",
    "              ROOT.RooFit.LineColor(color),\n",
    "              ROOT.RooFit.Name(\"simPdf\")\n",
    "             )\n",
    "\n",
    "\n",
    "simPdf.plotOn(frame1, \n",
    "              ROOT.RooFit.Slice(sample, \"pass\"), \n",
    "              ROOT.RooFit.Components(\"px_p\"), \n",
    "              ROOT.RooFit.ProjWData(sampleSet, combData), \n",
    "              ROOT.RooFit.LineStyle(ROOT.kDashed),\n",
    "              ROOT.RooFit.LineColor(color)\n",
    "             )\n",
    "\n"
   ]
  },
  {
   "cell_type": "code",
   "execution_count": 23,
   "metadata": {},
   "outputs": [
    {
     "data": {
      "text/plain": [
       "<ROOT.RooPlot object (\"frame_x_72eac50\") at 0x72eac50>"
      ]
     },
     "execution_count": 23,
     "metadata": {},
     "output_type": "execute_result"
    },
    {
     "name": "stdout",
     "output_type": "stream",
     "text": [
      "[#1] INFO:Plotting -- RooTreeData::plotOn: plotting 754 events out of 1148 total events\n",
      "[#1] INFO:Plotting -- RooSimultaneous::plotOn(simPdf) plot on x represents a slice in the index category (sample)\n",
      "[#1] INFO:Plotting -- RooAbsReal::plotOn(modelf) slice variable sample was not projected anyway\n",
      "[#1] INFO:NumericIntegration -- RooRealIntegral::init(px_f_Int[x]) using numeric integrator RooIntegrator1D to calculate Int(x)\n",
      "[#1] INFO:Plotting -- RooSimultaneous::plotOn(simPdf) plot on x represents a slice in the index category (sample)\n",
      "[#1] INFO:Plotting -- RooAbsPdf::plotOn(modelf) directly selected PDF components: (px_f)\n",
      "[#1] INFO:Plotting -- RooAbsPdf::plotOn(modelf) indirectly selected PDF components: (model_f)\n",
      "[#1] INFO:Plotting -- RooAbsReal::plotOn(modelf) slice variable sample was not projected anyway\n",
      "[#1] INFO:NumericIntegration -- RooRealIntegral::init(px_f_Int[x]) using numeric integrator RooIntegrator1D to calculate Int(x)\n"
     ]
    }
   ],
   "source": [
    "frame2 = x.frame(ROOT.RooFit.Title(\"Fail sample, {}\".format(dgq)))\n",
    "combData.plotOn(frame2, ROOT.RooFit.Cut(\"sample==sample::fail\"),  ROOT.RooFit.Name(\"combData\"))\n",
    "simPdf.plotOn(frame2, ROOT.RooFit.Slice(sample, \"fail\"), \n",
    "              ROOT.RooFit.ProjWData(sampleSet, combData),\n",
    "#               ROOT.RooFit.LineStyle(ROOT.kDashed),\n",
    "              ROOT.RooFit.LineColor(color),\n",
    "              ROOT.RooFit.Name(\"simPdf\")\n",
    "             )\n",
    "\n",
    "simPdf.plotOn(frame2, \n",
    "              ROOT.RooFit.Slice(sample, \"fail\"), \n",
    "              ROOT.RooFit.Components(\"px_f\"), \n",
    "              ROOT.RooFit.ProjWData(sampleSet, combData), \n",
    "              ROOT.RooFit.LineStyle(ROOT.kDashed),\n",
    "              ROOT.RooFit.LineColor(color)\n",
    "             )\n",
    "\n",
    "# c = ROOT.TCanvas(\"rf501_simultaneouspdf\", \"rf501_simultaneouspdf\", 1200, 600)\n",
    "# c.Divide(2,1)\n",
    "# c.cd(1)\n",
    "# ROOT.gPad.SetLeftMargin(0.15)\n",
    "# ROOT.gStyle.SetOptFit(1111)\n",
    "# frame1.GetYaxis().SetTitleOffset(1.4)\n",
    "# frame1.SetLineColor(color)\n",
    "# frame1.GetYaxis().SetRangeUser(0.75*passhist.GetMinimum(), 1.15 * passhist.GetMaximum())\n",
    "# frame1.Draw()\n",
    "# c.Update()\n",
    "\n",
    "# c.cd(2)\n",
    "# ROOT.gPad.SetLeftMargin(0.15)\n",
    "# frame2.GetYaxis().SetTitleOffset(1.4)\n",
    "# frame1.SetLineColor(color)\n",
    "# frame2.GetYaxis().SetRangeUser(0.75*failhist.GetMinimum(), 1.15 * failhist.GetMaximum())\n",
    "# frame2.Draw()\n",
    "\n",
    "# c.SaveAs(\"simultaneouspdf_{}.png\".format(dgq))"
   ]
  },
  {
   "cell_type": "code",
   "execution_count": 24,
   "metadata": {},
   "outputs": [],
   "source": [
    "eff = ROOT.RooFormulaVar(\"eff\", \"(a_p * f_p) / (a_f * f_f + a_p * f_p) \", ROOT.RooArgList(a_p, f_p, a_f, f_f))\n"
   ]
  },
  {
   "cell_type": "code",
   "execution_count": 25,
   "metadata": {},
   "outputs": [],
   "source": [
    "p = f_p.getVal()\n",
    "f = f_f.getVal()\n",
    "\n",
    "dp = f_p.getError()\n",
    "df = f_f.getError()\n",
    "\n",
    "a = f+p\n",
    "da = np.sqrt(df*df + dp*dp)"
   ]
  },
  {
   "cell_type": "code",
   "execution_count": 26,
   "metadata": {},
   "outputs": [],
   "source": [
    "deffoeff = np.sqrt( (dp/p)**2 + (da / a)**2 )\n",
    "deff = deffoeff * eff.getVal()"
   ]
  },
  {
   "cell_type": "code",
   "execution_count": 27,
   "metadata": {},
   "outputs": [
    {
     "name": "stdout",
     "output_type": "stream",
     "text": [
      "Efficiency is: 53.1282 +/- 6.6464 %\n"
     ]
    }
   ],
   "source": [
    "print(\"Efficiency is: {:.4f} +/- {:.4f} %\".format(eff.getVal()*100, deff*100))"
   ]
  },
  {
   "cell_type": "code",
   "execution_count": 28,
   "metadata": {},
   "outputs": [
    {
     "name": "stdout",
     "output_type": "stream",
     "text": [
      "Scale Factor is 1.0326 +\\- 0.1837\n"
     ]
    }
   ],
   "source": [
    "dmu = 54.9157 #Data efficiency and uncertainty\n",
    "dmu_err = 0.6363\n",
    "\n",
    "gmu = 53.1811 #GJets efficiency and uncertainty\n",
    "gmu_err = 9.4408\n",
    "\n",
    "# y = 55.0452 #GJets efficiency and uncertainty with weights\n",
    "# dy = 10.4371\n",
    "\n",
    "z = dmu/gmu\n",
    "dz = z * np.sqrt( (dmu_err/gmu)**2 + (gmu_err/gmu)**2 )\n",
    "\n",
    "print(\"Scale Factor is {:.4f} +\\- {:.4f}\".format(z, dz))"
   ]
  },
  {
   "cell_type": "code",
   "execution_count": 29,
   "metadata": {},
   "outputs": [
    {
     "data": {
      "text/plain": [
       "0.35185185185185186"
      ]
     },
     "execution_count": 29,
     "metadata": {},
     "output_type": "execute_result"
    }
   ],
   "source": [
    "np.sqrt((19. / 54.)**2)"
   ]
  },
  {
   "cell_type": "code",
   "execution_count": 30,
   "metadata": {},
   "outputs": [
    {
     "data": {
      "text/plain": [
       "0.6970366564809158"
      ]
     },
     "execution_count": 30,
     "metadata": {},
     "output_type": "execute_result"
    }
   ],
   "source": [
    "f_p.getVal()"
   ]
  },
  {
   "cell_type": "code",
   "execution_count": 31,
   "metadata": {},
   "outputs": [
    {
     "name": "stdout",
     "output_type": "stream",
     "text": [
      "Pass Values:\n",
      "Norm: 402.0\n",
      "\n",
      "Gaussian: \n",
      "mu = 0.5492 +/- 0.0078\n",
      "sigma = 0.0500 +/- 0.0037\n",
      "\n",
      "Background: \n",
      "m = 13.45 +/- 53.28\n",
      "m0 = -13.51 +/- 97.64\n",
      "c = -99.35 +/- 195.90\n"
     ]
    }
   ],
   "source": [
    "print(\"Pass Values:\")\n",
    "print(\"Norm: {}\".format(a_p.getVal()))\n",
    "print(\"\\nGaussian: \")\n",
    "print(\"mu = {:.4f} +/- {:.4f}\".format(mean_p.getVal(), mean_p.getError()))\n",
    "print(\"sigma = {:.4f} +/- {:.4f}\".format(sigma_p.getVal(), sigma_p.getError()))\n",
    "\n",
    "\n",
    "print(\"\\nBackground: \")\n",
    "\n",
    "if 'data' in dgq:\n",
    "    print(\"p0 = {:.2f} +/- {:.2f}\".format(a0_p.getVal(), a0_p.getError()))\n",
    "    print(\"p1 = {:.2f} +/- {:.2f}\".format(a1_p.getVal(), a1_p.getError()))\n",
    "   \n",
    "else:\n",
    "    # Argus\n",
    "    print(\"m = {:.2f} +/- {:.2f}\".format(m_p.getVal(), m_p.getError()))\n",
    "    print(\"m0 = {:.2f} +/- {:.2f}\".format(m0_p.getVal(), m0_p.getError()))\n",
    "    print(\"c = {:.2f} +/- {:.2f}\".format(c_p.getVal(), c_p.getError()))\n",
    "    \n"
   ]
  },
  {
   "cell_type": "code",
   "execution_count": 32,
   "metadata": {},
   "outputs": [
    {
     "name": "stdout",
     "output_type": "stream",
     "text": [
      "-0.1599\n",
      "0.2401\n"
     ]
    }
   ],
   "source": [
    "print(ss-sw*se)\n",
    "print(ss+sw*se)"
   ]
  },
  {
   "cell_type": "code",
   "execution_count": 33,
   "metadata": {},
   "outputs": [
    {
     "name": "stdout",
     "output_type": "stream",
     "text": [
      "Fail Values:\n",
      "Norm: 771.0\n",
      "\n",
      "Gaussian\n",
      "mu = 0.5492 +/- 0.0078\n",
      "sigma = 0.0500 +/- 0.0037\n",
      "\n",
      "Background: \n",
      "m = 6.52 +/- 0.74\n",
      "m0 = -73.87 +/- 28.90\n",
      "c = -57.55 +/- 29.07\n"
     ]
    }
   ],
   "source": [
    "print(\"Fail Values:\")\n",
    "print(\"Norm: {}\".format(a_f.getVal()))\n",
    "print(\"\\nGaussian\")\n",
    "print(\"mu = {:.4f} +/- {:.4f}\".format(mean_p.getVal(), mean_p.getError()))\n",
    "print(\"sigma = {:.4f} +/- {:.4f}\".format(sigma_p.getVal(), sigma_p.getError()))\n",
    "\n",
    "print(\"\\nBackground: \")\n",
    "\n",
    "if 'data' in dgq:\n",
    "    print(\"p0 = {:.2f} +/- {:.2f}\".format(a0_f.getVal(), a0_f.getError()))\n",
    "    print(\"p1 = {:.3f} +/- {:.3f}\".format(a1_f.getVal(), a1_f.getError()))\n",
    "   \n",
    "else:\n",
    "    # Argus\n",
    "    print(\"m = {:.2f} +/- {:.2f}\".format(m_f.getVal(), m_f.getError()))\n",
    "    print(\"m0 = {:.2f} +/- {:.2f}\".format(m0_f.getVal(), m0_f.getError()))\n",
    "    print(\"c = {:.2f} +/- {:.2f}\".format(c_f.getVal(), c_f.getError()))\n",
    "\n"
   ]
  },
  {
   "cell_type": "code",
   "execution_count": 34,
   "metadata": {
    "scrolled": true
   },
   "outputs": [
    {
     "name": "stdout",
     "output_type": "stream",
     "text": [
      "Chi2 / ndof is 3.47823726165\n",
      "Chi2 / ndof is 6.34194913365\n"
     ]
    }
   ],
   "source": [
    "# pl = p_ext.getParameters(data_pass).contentsString().split(\",\")\n",
    "# fl = f_ext.getParameters(data_pass).contentsString().split(\",\")\n",
    "# cc = 0\n",
    "# for ff in fl: \n",
    "#     if(ff not in pl): cc += 1\n",
    "# nparams = len(pl) + cc\n",
    "\n",
    "if 'data' in dgq:\n",
    "    nparams = 8\n",
    "else: \n",
    "    nparams = 10\n",
    "    \n",
    "# chi2 = frame1.chiSquare(\"simPdf\", \"combData\" )\n",
    "# print(\"Chi2 / ndof is {}\".format(chi2))\n",
    "# chi2 = frame2.chiSquare(\"simPdf\", \"combData\")\n",
    "# print(\"Chi2 / ndof is {}\".format(chi2))\n",
    "    \n",
    "chi2 = frame1.chiSquare(\"simPdf\", \"combData\", nparams)\n",
    "print(\"Chi2 / ndof is {}\".format(chi2))\n",
    "chi2 = frame2.chiSquare(\"simPdf\", \"combData\", nparams)\n",
    "print(\"Chi2 / ndof is {}\".format(chi2))"
   ]
  },
  {
   "cell_type": "code",
   "execution_count": 35,
   "metadata": {},
   "outputs": [],
   "source": [
    "\n",
    "hpull = frame1.pullHist(\"combData\", \"simPdf\")\n",
    "frame1P = x.frame(ROOT.RooFit.Title(\"\"))\n",
    "frame1P.addPlotable(hpull, \"P\")\n",
    "\n",
    "hpull2 = frame2.pullHist(\"combData\", \"simPdf\")\n",
    "frame2P = x.frame(ROOT.RooFit.Title(\"\"))\n",
    "frame2P.addPlotable(hpull2, \"P\")\n",
    "\n",
    "# cA = ROOT.TCanvas(\"simPull\", \"simPull\", 1200, 600)\n",
    "cA = ROOT.TCanvas(\"simPull\", \"simPull\", 600, 600)\n",
    "# cA.Divide(2,1)\n",
    "\n",
    "cA.cd(1)\n",
    "\n",
    "p12 = ROOT.TPad(\"pad1\", \"tall\",0,0.165,1,1)\n",
    "p22 = ROOT.TPad(\"pad2\", \"short\",0,0.0,1.0,0.23)\n",
    "p22.SetBottomMargin(0.35)\n",
    "p12.Draw()\n",
    "p22.Draw()\n",
    "\n",
    "p12.cd()\n",
    "ROOT.gPad.SetLeftMargin(0.15)\n",
    "ROOT.gStyle.SetOptFit(1111)\n",
    "frame1.SetTitle(\"Pass Sample, 2016 GJets\")\n",
    "frame1.GetYaxis().SetTitleOffset(1.4)\n",
    "frame1.SetLineColor(color)\n",
    "passhist.GetXaxis().SetRangeUser(rlow, rhigh)\n",
    "frame1.GetYaxis().SetRangeUser(0.75*passhist.GetMinimum(), 1.15 * passhist.GetMaximum())\n",
    "frame1.GetXaxis().SetLabelOffset(999)\n",
    "frame1.GetXaxis().SetLabelSize(0)\n",
    "frame1.Draw()\n",
    "\n",
    "p22.cd()\n",
    "ROOT.gPad.SetLeftMargin(0.15)\n",
    "frame1P.SetTitle(\";Mass(GeV);#frac{Data - Fit}{Uncertainty}\")\n",
    "frame1P.GetYaxis().SetLabelSize(0.11)\n",
    "frame1P.GetXaxis().SetLabelSize(0.15)\n",
    "frame1P.GetXaxis().SetTitleSize(0.15)\n",
    "frame1P.GetYaxis().SetTitleOffset(0.3)\n",
    "frame1P.GetYaxis().SetTitleSize(0.125)\n",
    "frame1P.Draw()\n",
    "\n",
    "# L1 = ROOT.TLine(rlow-0.005, 0, rhigh+0.005, 0)\n",
    "# L1.SetLineColor(12)\n",
    "# L1.Draw(\"same\")\n",
    "\n",
    "##############################################################\n",
    "\n"
   ]
  },
  {
   "cell_type": "code",
   "execution_count": 36,
   "metadata": {},
   "outputs": [],
   "source": [
    "# cA.cd(2)\n",
    "\n",
    "# p12 = ROOT.TPad(\"pad1\", \"tall\",0,0.165,1,1)\n",
    "# p22 = ROOT.TPad(\"pad2\", \"short\",0,0.0,1.0,0.23)\n",
    "# p22.SetBottomMargin(0.35)\n",
    "# p12.Draw()\n",
    "# p22.Draw()\n",
    "\n",
    "# p12.cd()\n",
    "# ROOT.gPad.SetLeftMargin(0.15)\n",
    "# ROOT.gStyle.SetOptFit(1111)\n",
    "# frame2.GetYaxis().SetTitleOffset(1.4)\n",
    "# frame2.SetLineColor(color)\n",
    "# failhist.GetXaxis().SetRangeUser(rlow, rhigh)\n",
    "# frame2.GetYaxis().SetRangeUser(0.75*failhist.GetMinimum(), 1.15 * failhist.GetMaximum())\n",
    "# frame2.GetXaxis().SetLabelOffset(999)\n",
    "# frame2.GetXaxis().SetLabelSize(0)\n",
    "# frame2.Draw()\n",
    "\n",
    "# p22.cd()\n",
    "# ROOT.gPad.SetLeftMargin(0.15)\n",
    "# frame2P.SetTitle(\";Mass(GeV);Data - Fit\")\n",
    "# frame2P.GetYaxis().SetLabelSize(0.11)\n",
    "# frame2P.GetXaxis().SetLabelSize(0.15)\n",
    "# frame2P.GetXaxis().SetTitleSize(0.15)\n",
    "# frame2P.GetYaxis().SetTitleOffset(0.3)\n",
    "# frame2P.GetYaxis().SetTitleSize(0.15)\n",
    "# frame2P.Draw()\n",
    "\n",
    "# L2 = ROOT.TLine(rlow-0.005, 0, rhigh+0.005, 0)\n",
    "# L2.SetLineColor(12)\n",
    "# L2.Draw(\"same\")"
   ]
  },
  {
   "cell_type": "code",
   "execution_count": 37,
   "metadata": {
    "scrolled": true
   },
   "outputs": [
    {
     "data": {
      "image/png": "[encoded data removed]",
      "text/plain": [
       "<IPython.core.display.Image object>"
      ]
     },
     "metadata": {},
     "output_type": "display_data"
    },
    {
     "data": {
      "image/png": "[encoded data removed]",
      "text/plain": [
       "<IPython.core.display.Image object>"
      ]
     },
     "metadata": {},
     "output_type": "display_data"
    }
   ],
   "source": [
    "gROOT.GetListOfCanvases().Draw()"
   ]
  },
  {
   "cell_type": "code",
   "execution_count": 38,
   "metadata": {},
   "outputs": [
    {
     "name": "stdout",
     "output_type": "stream",
     "text": [
      "Eta Pass Rate is: 53.1282 +/- 6.6464 %\n",
      "mu = 0.5492 +/- 0.0078\n"
     ]
    }
   ],
   "source": [
    "print(\"Eta Pass Rate is: {:.4f} +/- {:.4f} %\".format(eff.getVal()*100, deff*100))\n",
    "print(\"mu = {:.4f} +/- {:.4f}\".format(mean_p.getVal(), mean_p.getError()))"
   ]
  },
  {
   "cell_type": "code",
   "execution_count": 39,
   "metadata": {},
   "outputs": [
    {
     "data": {
      "text/plain": [
       "1.0235404896421845"
      ]
     },
     "execution_count": 39,
     "metadata": {},
     "output_type": "execute_result"
    }
   ],
   "source": [
    "54.35/53.10"
   ]
  },
  {
   "cell_type": "code",
   "execution_count": 40,
   "metadata": {},
   "outputs": [
    {
     "data": {
      "text/plain": [
       "0.16591379076590876"
      ]
     },
     "execution_count": 40,
     "metadata": {},
     "output_type": "execute_result"
    }
   ],
   "source": [
    "np.sqrt( (0.43/54.35)**2 + (8.8/53.10)**2  )"
   ]
  },
  {
   "cell_type": "code",
   "execution_count": null,
   "metadata": {},
   "outputs": [],
   "source": []
  }
 ],
 "metadata": {
  "kernelspec": {
   "display_name": "Python 2",
   "language": "python",
   "name": "python2"
  },
  "language_info": {
   "codemirror_mode": {
    "name": "ipython",
    "version": 2
   },
   "file_extension": ".py",
   "mimetype": "text/x-python",
   "name": "python",
   "nbconvert_exporter": "python",
   "pygments_lexer": "ipython2",
   "version": "2.7.15+"
  }
 },
 "nbformat": 4,
 "nbformat_minor": 2
}

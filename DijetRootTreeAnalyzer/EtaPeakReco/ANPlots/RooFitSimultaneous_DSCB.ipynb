{
 "cells": [
  {
   "cell_type": "markdown",
   "metadata": {},
   "source": [
    "from https://nbviewer.jupyter.org/url/root.cern/doc/master/notebooks/rf102_dataimport.py.nbconvert.ipynb"
   ]
  },
  {
   "cell_type": "code",
   "execution_count": 1,
   "metadata": {
    "scrolled": true
   },
   "outputs": [
    {
     "name": "stdout",
     "output_type": "stream",
     "text": [
      "Welcome to JupyROOT 6.18/04\n"
     ]
    }
   ],
   "source": [
    "import ROOT\n",
    "from array import array\n",
    "from ROOT import gROOT \n",
    "import numpy as np\n",
    "import os"
   ]
  },
  {
   "cell_type": "markdown",
   "metadata": {},
   "source": [
    "## Trying Simultaneous fit\n",
    "https://root.cern.ch/doc/master/rf501__simultaneouspdf_8py.html"
   ]
  },
  {
   "cell_type": "code",
   "execution_count": 2,
   "metadata": {},
   "outputs": [],
   "source": [
    "# dgq = 'dataRun2'\n",
    "dgq = 'gjets'\n",
    "ee = 'e30_60'"
   ]
  },
  {
   "cell_type": "code",
   "execution_count": 3,
   "metadata": {},
   "outputs": [],
   "source": [
    "if \"data\" in dgq:\n",
    "    if(not os.path.exists(\"mypow_cxx.so\")):\n",
    "        ROOT.RooClassFactory.makePdf(\n",
    "         \"mypow\", \"x,p0,p1\", \"\", \"p0*TMath::Exp(p1*x)\") #Declare function\n",
    "    ROOT.gROOT.ProcessLineSync(\".x mypow.cxx+\") # Compile it for Roofit\n"
   ]
  },
  {
   "cell_type": "code",
   "execution_count": 4,
   "metadata": {},
   "outputs": [],
   "source": [
    "binw = 0.025\n",
    "\n",
    "if 'data' in dgq:\n",
    "    rlow =  0.375 #- 1*binw \n",
    "    rhigh = 0.725 #- 1*binw\n",
    "else:\n",
    "    rlow = 0.375\n",
    "    rhigh = 0.725-0.05\n",
    "    \n",
    "#0.4, 0.68 for 30-60 data and gjets\n",
    "#0.35, 0.7\n",
    "# rlow = 0.4\n",
    "# rhigh = 0.7\n",
    "helpme = 0.02"
   ]
  },
  {
   "cell_type": "code",
   "execution_count": 5,
   "metadata": {},
   "outputs": [],
   "source": [
    "# inFile = ROOT.TFile(\"./{}Out_{}.root\".format(dgq, ee), \"read\")\n",
    "if(\"data\" in dgq):\n",
    "    inFile = ROOT.TFile(\"./Plots/massplot_ewindows_dataRun2.root\", \"read\")\n",
    "    hist_p = inFile.Get(\"mass_final\")\n",
    "    hist_f = inFile.Get(\"mass_fail_final\")\n",
    "elif(dgq==\"gjets\"):\n",
    "    #inFile = ROOT.TFile(\"./GJetsFiles/gjetsOut_e30_60_2016.root\",\"read\")\n",
    "    inFile = ROOT.TFile(\"./GJetsFiles/gjets_Run2_match.root\",\"read\")\n",
    "    hist_p = inFile.Get(\"mass\")\n",
    "    hist_f = inFile.Get(\"fail\")"
   ]
  },
  {
   "cell_type": "code",
   "execution_count": 6,
   "metadata": {},
   "outputs": [],
   "source": [
    "# c1 = ROOT.TCanvas(\"c\", \"c\", 800, 800)\n",
    "# c1.cd()\n",
    "# hist_f.Draw(\"hist\")\n",
    "# gROOT.GetListOfCanvases().Draw()"
   ]
  },
  {
   "cell_type": "code",
   "execution_count": 7,
   "metadata": {},
   "outputs": [
    {
     "name": "stderr",
     "output_type": "stream",
     "text": [
      "Warning in <TFile::Append>: Replacing existing TH1: fail (Potential memory leak).\n"
     ]
    }
   ],
   "source": [
    "# passhist = ROOT.TH1F(\"pass\", \"diphoton mass ; mass (GeV) ; \", hist_p.GetNbinsX(), hist_p.GetBinCenter(1), hist_p.GetBinCenter(hist_p.GetNbinsX() + 1) )\n",
    "# failhist = ROOT.TH1F(\"fail\", \"diphoton mass ; mass (GeV) ; \", hist_f.GetNbinsX(), hist_f.GetBinCenter(1), hist_f.GetBinCenter(hist_f.GetNbinsX() + 1) )\n",
    "\n",
    "passhist = ROOT.TH1F(\"pass\", \"diphoton mass ; mass (GeV) ; \", hist_p.GetNbinsX(), hist_p.GetBinLowEdge(1), hist_p.GetBinLowEdge(hist_p.GetNbinsX() + 1) )\n",
    "failhist = ROOT.TH1F(\"fail\", \"diphoton mass ; mass (GeV) ; \", hist_f.GetNbinsX(), hist_f.GetBinLowEdge(1), hist_f.GetBinLowEdge(hist_f.GetNbinsX() + 1) )\n",
    "\n",
    "\n",
    "#Pass\n",
    "for i in range(1, hist_p.GetNbinsX()+1):\n",
    "    if(hist_p.GetBinContent(i) < 0): continue\n",
    "    if( hist_p.GetBinCenter(i) >= rlow-helpme and hist_p.GetBinCenter(i) < rhigh):\n",
    "        passhist.SetBinContent(i, hist_p.GetBinContent(i))\n",
    "\n",
    "#Fail\n",
    "for i in range(1, hist_f.GetNbinsX()+1):\n",
    "    if(hist_f.GetBinContent(i) < 0): continue\n",
    "    if( hist_f.GetBinCenter(i) >= rlow-helpme and hist_f.GetBinCenter(i) < rhigh):\n",
    "        failhist.SetBinContent(i, hist_f.GetBinContent(i))\n",
    "\n",
    "        \n",
    "# passhist.GetXaxis().SetRangeUser(rlow, rhigh)\n",
    "# failhist.GetXaxis().SetRangeUser(rlow, rhigh)"
   ]
  },
  {
   "cell_type": "code",
   "execution_count": 8,
   "metadata": {
    "scrolled": true
   },
   "outputs": [],
   "source": [
    "# c1 = ROOT.TCanvas(\"c\", \"c\", 400, 400)\n",
    "# c1.cd()\n",
    "# # failhist.Draw(\"SAME\")\n",
    "# passhist.Draw(\"SAME\")\n",
    "# # gROOT.GetListOfCanvases().Draw()"
   ]
  },
  {
   "cell_type": "code",
   "execution_count": 9,
   "metadata": {},
   "outputs": [
    {
     "data": {
      "text/plain": [
       "402.0"
      ]
     },
     "execution_count": 9,
     "metadata": {},
     "output_type": "execute_result"
    }
   ],
   "source": [
    "passhist.Integral()"
   ]
  },
  {
   "cell_type": "code",
   "execution_count": 10,
   "metadata": {},
   "outputs": [],
   "source": [
    "x = ROOT.RooRealVar(\"x\", \"x\", rlow+0.02, rhigh)"
   ]
  },
  {
   "cell_type": "code",
   "execution_count": 11,
   "metadata": {},
   "outputs": [
    {
     "name": "stdout",
     "output_type": "stream",
     "text": [
      "[#1] INFO:DataHandling -- RooDataHist::adjustBinning(dh): fit range of variable x expanded to nearest bin boundaries: [0.395,0.675] --> [0.375,0.675]\n"
     ]
    }
   ],
   "source": [
    "data_pass = ROOT.RooDataHist(\"dh\",\"dh\",ROOT.RooArgList(x), passhist)\n",
    "data_fail = ROOT.RooDataHist(\"df\",\"df\",ROOT.RooArgList(x), failhist)"
   ]
  },
  {
   "cell_type": "code",
   "execution_count": 12,
   "metadata": {},
   "outputs": [],
   "source": [
    "#Passing PDF\n",
    "\n",
    "ss = 0.0401\n",
    "se = 2.0e-05\n",
    "sw = 10000\n",
    "\n",
    "# #Signal PDF\n",
    "# # mean_p = ROOT.RooRealVar(\"mean_p\", \"mean_p\", 0.548, 0.5, 0.6)\n",
    "# mean_p = ROOT.RooRealVar(\"mean_p\", \"mean_p\", 0.55, 0.53, 0.6)\n",
    "# # sigma_p = ROOT.RooRealVar(\"sigma_p\", \"sigma_p\", 4.0e-02, 4.0e-02 - 100*2.0e-04, 4.0e-02 + 100*2.0e-04)\n",
    "# sigma_p = ROOT.RooRealVar(\"sigma_p\", \"sigma_p\", ss, ss-sw*se, ss+sw*se)\n",
    "\n",
    "# gx_p = ROOT.RooGaussian(\"gauss_pass\", \"gauss_pass\", x, mean_p, sigma_p)\n",
    "\n",
    "#DoubleSidedCB\n",
    "mean_p = ROOT.RooRealVar(\"mean_p\", \"mean of gaussian\", 0.548, 0.53, 0.57)\n",
    "sigma_p = ROOT.RooRealVar(\"sigma_p\", \"width of gaussian\", 4.09936e-02, 0.03, 0.05)\n",
    "alpha1 = ROOT.RooRealVar(\"alpha1\", \"alpha1 of gaussian\", 8.88792e+00, 0.0001, 11)\n",
    "# alpha2 = ROOT.RooRealVar(\"alpha2\", \"alpha2 of gaussian\", 4.82348e+00, 0.0001, 11)\n",
    "alpha2 = ROOT.RooRealVar(\"alpha2\", \"alpha2 of gaussian\", 4.86301e+00,4.6e+00, 5.0e+00)\n",
    "n1 = ROOT.RooRealVar(\"n1\", \"n1 of gaussian\", 4.15948e+00, 0.0001, 10)\n",
    "# n2 = ROOT.RooRealVar(\"n2\", \"n2 of gaussian\", 6.62385e-01, 0.000001, 10)\n",
    "n2 = ROOT.RooRealVar(\"n2\", \"n2 of gaussian\", 6.62385e-01, 6.62385e-01, 6.62385e-01)\n",
    "gx_p = ROOT.RooDoubleCB(\"dscb\",\"dscb\",x,mean_p,sigma_p,alpha1,n1,alpha2,n2)\n",
    "\n",
    "alpha2.setVal(4.82348e+00)\n",
    "n2.setVal(6.62385e-01)\n",
    "\n",
    "\n",
    "#Background PDF\n",
    "#Power \n",
    "if 'data' in dgq:\n",
    "    a0_p = ROOT.RooRealVar(\"a0_p\", \"a0_p\", 10, -100, 100)\n",
    "    a1_p = ROOT.RooRealVar(\"a1_p\", \"a1_p\", 1, -10, 10)\n",
    "\n",
    "    px_p = ROOT.mypow(\"px_p\", \"px_p\", x, a0_p, a1_p)\n",
    "    \n",
    "else:\n",
    "\n",
    "    # Argus\n",
    "    m_p = ROOT.RooRealVar(\"m_p\", \"m_p\", 10, 0, 100)\n",
    "    m0_p = ROOT.RooRealVar(\"m0_p\", \"m0_p\", -1, -100, 10)\n",
    "    c_p = ROOT.RooRealVar(\"c_p\", \"c_p\", 1, -100, 100)\n",
    "    px_p = ROOT.RooArgusBG(\"px_p\", \"px_p\", x, m_p, m0_p, c_p)\n",
    "\n",
    "\n",
    "# Construct composite pdf\n",
    "f_p = ROOT.RooRealVar(\"f_p\", \"f_p\", 0.2, 0.0, 1.0)\n",
    "model_p = ROOT.RooAddPdf(\"model_p\", \"model_p\", ROOT.RooArgList(gx_p, px_p), ROOT.RooArgList(f_p))\n",
    "\n",
    "# model_p.fitTo(data_pass)\n",
    "\n",
    "a_p = ROOT.RooRealVar(\"a_p\",\"a_p\", passhist.Integral())\n",
    "p_ext = ROOT.RooExtendPdf(\"modelp\",\"modelp\",model_p,a_p)\n",
    "\n",
    "# p_ext.fitTo(data_pass)"
   ]
  },
  {
   "cell_type": "code",
   "execution_count": 13,
   "metadata": {},
   "outputs": [
    {
     "data": {
      "text/plain": [
       "<ROOT.RooExtendPdf object (\"modelp\") at 0x874bb70>"
      ]
     },
     "execution_count": 13,
     "metadata": {},
     "output_type": "execute_result"
    }
   ],
   "source": [
    "p_ext"
   ]
  },
  {
   "cell_type": "code",
   "execution_count": 14,
   "metadata": {},
   "outputs": [],
   "source": [
    "#Background\n",
    "# #Power \n",
    "#Power \n",
    "if 'data' in dgq:\n",
    "    a0_f = ROOT.RooRealVar(\"a0_f\", \"a0_f\", 10, -100, 100)\n",
    "    a1_f = ROOT.RooRealVar(\"a1_f\", \"a1_f\", 1, -10, 10)\n",
    "\n",
    "    px_f = ROOT.mypow(\"px_f\", \"px_f\", x, a0_f, a1_f)\n",
    "    \n",
    "else:\n",
    "   \n",
    "    # Argus\n",
    "    m_f = ROOT.RooRealVar(\"m_f\", \"m_f\", 10, 0, 100)\n",
    "    m0_f = ROOT.RooRealVar(\"m0_f\", \"m0_f\", -1, -100, 100)\n",
    "    c_f = ROOT.RooRealVar(\"c_f\", \"c_f\", 1, -100, 100)\n",
    "    px_f = ROOT.RooArgusBG(\"px_f\", \"px_f\", x, m_f, m0_f, c_f)\n",
    "\n",
    "\n",
    "# #Polynomial\n",
    "# p = ROOT.RooRealVar(\"coeff\",\"coeff\",0,-10,10)\n",
    "# px_f = ROOT.RooPolynomial(\"poly\",\"poly\",x,p,lowestorder=3)\n",
    "\n",
    "# Construct composite pdf\n",
    "f_f = ROOT.RooRealVar(\"f_f\", \"f_f\", 0.2, 0.0, 1.0)\n",
    "model_f = ROOT.RooAddPdf(\"model_f\", \"model_f\", ROOT.RooArgList(gx_p, px_f), ROOT.RooArgList(f_f))\n",
    "\n",
    "a_f = ROOT.RooRealVar(\"a_f\",\"a_f\", failhist.Integral())\n",
    "f_ext = ROOT.RooExtendPdf(\"modelf\",\"modelf\",model_f,a_f)\n",
    "\n"
   ]
  },
  {
   "cell_type": "code",
   "execution_count": 15,
   "metadata": {},
   "outputs": [
    {
     "data": {
      "text/plain": [
       "False"
      ]
     },
     "execution_count": 15,
     "metadata": {},
     "output_type": "execute_result"
    }
   ],
   "source": [
    "# Define category to distinguish physics and control samples events\n",
    "sample = ROOT.RooCategory(\"sample\", \"sample\")\n",
    "sample.defineType(\"pass\")\n",
    "sample.defineType(\"fail\")"
   ]
  },
  {
   "cell_type": "code",
   "execution_count": 16,
   "metadata": {},
   "outputs": [],
   "source": [
    "# Construct combined dataset in (x,sample)\n",
    "combData = ROOT.RooDataHist(\n",
    "    \"combData\",\n",
    "    \"combined data\",\n",
    "    ROOT.RooArgList(x),\n",
    "    ROOT.RooFit.Index(sample),\n",
    "    ROOT.RooFit.Import(\"pass\", passhist),\n",
    "    ROOT.RooFit.Import(\"fail\", failhist),\n",
    ")\n",
    " "
   ]
  },
  {
   "cell_type": "code",
   "execution_count": 17,
   "metadata": {},
   "outputs": [
    {
     "data": {
      "text/plain": [
       "False"
      ]
     },
     "execution_count": 17,
     "metadata": {},
     "output_type": "execute_result"
    }
   ],
   "source": [
    "# Construct a simultaneous pdf using category sample as index\n",
    "simPdf = ROOT.RooSimultaneous(\"simPdf\", \"simultaneous pdf\", sample)\n",
    "\n",
    "# Associate model with the physics state and model_ctl with the control\n",
    "# state\n",
    "# simPdf.addPdf(model_p, \"pass\")\n",
    "# simPdf.addPdf(model_f, \"fail\")\n",
    "simPdf.addPdf(p_ext, \"pass\")\n",
    "simPdf.addPdf(f_ext, \"fail\")"
   ]
  },
  {
   "cell_type": "code",
   "execution_count": 18,
   "metadata": {},
   "outputs": [
    {
     "name": "stdout",
     "output_type": "stream",
     "text": [
      "[#1] INFO:Minization -- p.d.f. provides expected number of events, including extended term in likelihood.\n",
      "[#1] INFO:Minization -- RooMinimizer::optimizeConst: activating const optimization\n",
      "RooAbsTestStatistic::initSimMode: creating slave calculator #0 for state pass (12 dataset entries)\n",
      "[#1] INFO:NumericIntegration -- RooRealIntegral::init(px_p_Int[x]) using numeric integrator RooIntegrator1D to calculate Int(x)\n",
      "RooAbsTestStatistic::initSimMode: creating slave calculator #1 for state fail (12 dataset entries)\n",
      "[#1] INFO:NumericIntegration -- RooRealIntegral::init(px_f_Int[x]) using numeric integrator RooIntegrator1D to calculate Int(x)\n",
      "[#1] INFO:Fitting -- RooAbsTestStatistic::initSimMode: created 2 slave calculators.\n",
      "[#1] INFO:NumericIntegration -- RooRealIntegral::init(px_p_Int[x]) using numeric integrator RooIntegrator1D to calculate Int(x)\n",
      "[#1] INFO:NumericIntegration -- RooRealIntegral::init(px_p_Int[x]) using numeric integrator RooIntegrator1D to calculate Int(x)\n",
      "[#1] INFO:Minization --  The following expressions will be evaluated in cache-and-track mode: (dscb,px_p)\n",
      "[#1] INFO:NumericIntegration -- RooRealIntegral::init(px_f_Int[x]) using numeric integrator RooIntegrator1D to calculate Int(x)\n",
      "[#1] INFO:NumericIntegration -- RooRealIntegral::init(px_f_Int[x]) using numeric integrator RooIntegrator1D to calculate Int(x)\n",
      "[#1] INFO:Minization --  The following expressions will be evaluated in cache-and-track mode: (dscb,px_f)\n",
      "[#1] INFO:Minization -- RooMinimizerFcn::synchronize: set of constant parameters changed, rerunning const optimizer\n",
      "[#1] INFO:NumericIntegration -- RooRealIntegral::init(px_p_Int[x]) using numeric integrator RooIntegrator1D to calculate Int(x)\n",
      "[#1] INFO:Minization --  The following expressions will be evaluated in cache-and-track mode: (dscb,px_p)\n",
      "[#1] INFO:NumericIntegration -- RooRealIntegral::init(px_f_Int[x]) using numeric integrator RooIntegrator1D to calculate Int(x)\n",
      "[#1] INFO:Minization --  The following expressions will be evaluated in cache-and-track mode: (dscb,px_f)\n",
      " **********\n",
      " **    1 **SET PRINT           1\n",
      " **********\n",
      " **********\n",
      " **    2 **SET NOGRAD\n",
      " **********\n",
      " PARAMETER DEFINITIONS:\n",
      "    NO.   NAME         VALUE      STEP SIZE      LIMITS\n",
      "     1 alpha1       8.88792e+00  1.05604e+00    1.00000e-04  1.10000e+01\n",
      "     2 alpha2       4.82348e+00  4.00000e-02    4.60000e+00  5.00000e+00\n",
      "     3 c_f          1.00000e+00  2.00000e+01   -1.00000e+02  1.00000e+02\n",
      "     4 c_p          1.00000e+00  2.00000e+01   -1.00000e+02  1.00000e+02\n",
      "     5 f_f          2.00000e-01  1.00000e-01    0.00000e+00  1.00000e+00\n",
      "     6 f_p          2.00000e-01  1.00000e-01    0.00000e+00  1.00000e+00\n",
      "     7 m0_f        -1.00000e+00  2.00000e+01   -1.00000e+02  1.00000e+02\n",
      "     8 m0_p        -1.00000e+00  5.50000e+00   -1.00000e+02  1.00000e+01\n",
      "     9 m_f          1.00000e+01  5.00000e+00    0.00000e+00  1.00000e+02\n",
      "    10 m_p          1.00000e+01  5.00000e+00    0.00000e+00  1.00000e+02\n",
      "    11 mean_p       5.48000e-01  4.00000e-03    5.30000e-01  5.70000e-01\n",
      "    12 n1           4.15948e+00  9.99990e-01    1.00000e-04  1.00000e+01\n",
      "    13 n2           6.62385e-01  6.62385e-02     no limits\n",
      " **********\n",
      " **    3 **FIX          13\n",
      " **********\n",
      " PARAMETER DEFINITIONS:\n",
      "    NO.   NAME         VALUE      STEP SIZE      LIMITS\n",
      "    14 sigma_p      4.09936e-02  2.00000e-03    3.00000e-02  5.00000e-02\n",
      " **********\n",
      " **    4 **SET ERR         0.5\n",
      " **********\n",
      " **********\n",
      " **    5 **SET PRINT           1\n",
      " **********\n",
      " **********\n",
      " **    6 **SET STR           1\n",
      " **********\n",
      " NOW USING STRATEGY  1: TRY TO BALANCE SPEED AGAINST RELIABILITY\n",
      " **********\n",
      " **    7 **MIGRAD        7000           1\n",
      " **********\n",
      " FIRST CALL TO USER FUNCTION AT NEW START POINT, WITH IFLAG=4.\n",
      " START MIGRAD MINIMIZATION.  STRATEGY  1.  CONVERGENCE WHEN EDM .LT. 1.00e-03\n",
      " FCN=-6898.36 FROM MIGRAD    STATUS=INITIATE     1079 CALLS        1080 TOTAL\n",
      "                     EDM= unknown      STRATEGY= 1      NO ERROR MATRIX       \n",
      "  EXT PARAMETER               CURRENT GUESS       STEP         FIRST   \n",
      "  NO.   NAME      VALUE            ERROR          SIZE      DERIVATIVE \n",
      "   1  alpha1       8.88792e+00   1.05604e+00   0.00000e+00   0.00000e+00\n",
      "   2  alpha2       4.82348e+00   4.00000e-02   0.00000e+00   0.00000e+00\n",
      "   3  c_f          1.00000e+00   2.00000e+01   0.00000e+00   1.30894e+01\n",
      "   4  c_p          1.00000e+00   2.00000e+01   0.00000e+00   1.54022e+00\n",
      "   5  f_f          2.00000e-01   1.00000e-01   0.00000e+00  -1.52417e+01\n",
      "   6  f_p          2.00000e-01   1.00000e-01   0.00000e+00  -5.42407e+01\n",
      "   7  m0_f        -1.00000e+00   2.00000e+01   0.00000e+00   1.30519e+01\n",
      "   8  m0_p        -1.00000e+00   5.50000e+00   0.00000e+00   5.06324e-01\n",
      "   9  m_f          1.00000e+01   5.00000e+00   0.00000e+00  -1.16808e-02\n",
      "  10  m_p          1.00000e+01   5.00000e+00   0.00000e+00  -3.88874e+02\n",
      "  11  mean_p       5.48000e-01   4.00000e-03   0.00000e+00  -6.66511e+00\n",
      "  12  n1           4.15948e+00   9.99990e-01   0.00000e+00   0.00000e+00\n",
      "  13  n2           6.62385e-01     fixed    \n",
      "  14  sigma_p      4.09936e-02   2.00000e-03   0.00000e+00   5.66929e+00\n",
      "                               ERR DEF= 0.5\n",
      " MINUIT WARNING IN MIGRAD  \n",
      " ============== Negative diagonal element 9 in Error Matrix\n",
      " MINUIT WARNING IN MIGRAD  \n",
      " ============== 1.01467 added to diagonal of error matrix\n",
      " EIGENVALUES OF SECOND-DERIVATIVE MATRIX:\n",
      "        -2.5149e-01  7.2326e-02  1.8020e-01  8.4056e-01  1.0000e+00  1.0000e+00  1.0000e+00  1.0003e+00  1.0004e+00  1.0385e+00  1.0853e+00  1.3293e+00  3.7046e+00\n",
      " MINUIT WARNING IN MIGRAD  \n",
      " ============== MATRIX FORCED POS-DEF BY ADDING 0.255195 TO DIAGONAL.\n",
      " MIGRAD FAILS TO FIND IMPROVEMENT\n",
      " MINUIT WARNING IN HESSE\n",
      " ============== Second derivative enters zero, param 1\n",
      " MINUIT WARNING IN HESSE\n",
      " ============== Second derivative zero for parameter1\n",
      "  MNHESS FAILS AND WILL RETURN DIAGONAL MATRIX. \n",
      " FCN=-6947.08 FROM HESSE     STATUS=FAILED          3 CALLS        2450 TOTAL\n",
      "                     EDM=0.625812    STRATEGY= 1  ERROR MATRIX UNCERTAINTY 100.0 per cent\n",
      "  EXT PARAMETER                APPROXIMATE        STEP         FIRST   \n",
      "  NO.   NAME      VALUE            ERROR          SIZE      DERIVATIVE \n",
      "   1  alpha1       8.88792e+00   1.46407e+00  -0.00000e+00   0.00000e+00\n",
      "   2  alpha2       4.82348e+00   1.67130e-01  -0.00000e+00   0.00000e+00\n",
      "   3  c_f         -9.89563e+01   1.35225e+02  -0.00000e+00   1.20855e-01\n",
      "   4  c_p         -6.71721e+01   1.29831e+02   0.00000e+00   2.24672e-02\n",
      "   5  f_f          3.20595e-01   4.36023e-02   0.00000e+00  -2.87310e-01\n",
      "   6  f_p          6.98271e-01   5.29644e-02  -0.00000e+00   1.84560e-01\n",
      "   7  m0_f        -9.64711e+01   1.32663e+02   0.00000e+00  -4.19103e-02\n",
      "   8  m0_p        -7.92603e+01   9.95984e+01  -0.00000e+00  -1.27839e-02\n",
      "   9  m_f          7.93241e+00   6.73575e-01  -0.00000e+00   2.85454e+00\n",
      "  10  m_p          2.34365e+01   6.07822e+01   0.00000e+00  -1.29998e-01\n",
      "  11  mean_p       5.49709e-01   3.41026e-03   0.00000e+00   8.07004e-02\n",
      "  12  n1           4.15948e+00   4.14743e+00  -0.00000e+00   0.00000e+00\n",
      "  13  n2           6.62385e-01     fixed    \n",
      "  14  sigma_p      4.99863e-02   1.80697e-02  -0.00000e+00   1.18421e-02\n",
      "                               ERR DEF= 0.5\n",
      " MINUIT WARNING IN MIGRAD  \n",
      " ============== Negative diagonal element 10 in Error Matrix\n",
      " MINUIT WARNING IN MIGRAD  \n",
      " ============== 140.984 added to diagonal of error matrix\n",
      " EIGENVALUES OF SECOND-DERIVATIVE MATRIX:\n",
      "        -5.3438e+00  9.9997e-01  1.0000e+00  1.0000e+00  1.0000e+00  1.0000e+00  1.0000e+00  1.0000e+00  1.0019e+00  1.0060e+00  1.0340e+00  1.1726e+00  7.1294e+00\n",
      " MINUIT WARNING IN MIGRAD  \n",
      " ============== MATRIX FORCED POS-DEF BY ADDING 5.350973 TO DIAGONAL.\n",
      " MIGRAD FAILS TO FIND IMPROVEMENT\n",
      " MIGRAD TERMINATED WITHOUT CONVERGENCE.\n",
      " FCN=-6947.11 FROM MIGRAD    STATUS=FAILED       2716 CALLS        2717 TOTAL\n",
      "                     EDM=0.00663687    STRATEGY= 1  ERROR MATRIX UNCERTAINTY  13.0 per cent\n",
      "  EXT PARAMETER                APPROXIMATE        STEP         FIRST   \n",
      "  NO.   NAME      VALUE            ERROR          SIZE      DERIVATIVE \n",
      "   1  alpha1       8.88792e+00   9.93208e+00  -0.00000e+00   0.00000e+00\n",
      "   2  alpha2       4.82348e+00   2.83511e-01  -0.00000e+00   0.00000e+00\n",
      "   3  c_f         -9.99239e+01   1.25894e+02  -0.00000e+00  -7.23653e-03\n",
      "   4  c_p         -9.91807e+01   1.57782e+02  -0.00000e+00   8.07538e-04\n",
      "   5  f_f          3.20471e-01   1.14715e-01  -0.00000e+00  -2.10130e-02\n",
      "   6  f_p          6.97426e-01   7.36291e-02  -0.00000e+00  -1.61668e-02\n",
      "   7  m0_f        -9.46014e+01   1.76504e+02  -0.00000e+00   8.54153e-03\n",
      "   8  m0_p        -9.99985e+01   1.01561e+02  -0.00000e+00   1.19823e-05\n",
      "   9  m_f          7.92988e+00   1.47749e+01  -0.00000e+00  -1.32742e-01\n",
      "  10  m_p          1.77831e+01   5.16496e+01   0.00000e+00  -2.07265e-02\n",
      "  11  mean_p       5.49165e-01   8.83657e-03   0.00000e+00  -6.54850e-03\n",
      "  12  n1           4.15948e+00   5.80865e+00  -0.00000e+00   0.00000e+00\n",
      "  13  n2           6.62385e-01     fixed    \n",
      "  14  sigma_p      4.99994e-02   1.65473e-02  -0.00000e+00  -2.45986e-04\n",
      "                               ERR DEF= 0.5\n",
      " EXTERNAL ERROR MATRIX.    NDIM=  25    NPAR= 13    ERR DEF=0.5\n",
      " ELEMENTS ABOVE DIAGONAL ARE NOT PRINTED.\n",
      "  8.418e+03 \n",
      "  0.000e+00  1.791e+01 \n",
      "  0.000e+00  0.000e+00  4.073e+02 \n",
      "  0.000e+00  0.000e+00 -2.553e+03  9.031e+04 \n",
      "  0.000e+00  0.000e+00 -9.650e-01  1.124e+01  1.343e-02 \n",
      "  0.000e+00  0.000e+00 -3.554e-01  1.892e+00  5.018e-03  5.468e-03 \n",
      "  0.000e+00  0.000e+00  4.138e+03  2.366e+03  4.704e+01  2.284e+01  4.800e+05 \n",
      "  0.000e+00  0.000e+00  8.359e+01  1.227e+02 -3.751e-01 -2.236e-03 -7.519e+01  1.267e+02 \n",
      "  0.000e+00  0.000e+00  8.288e+01  2.851e+01  1.101e+00  5.385e-01  1.081e+04 -1.917e+00  2.444e+02 \n",
      "  0.000e+00  0.000e+00 -6.947e+02  1.223e+04  2.785e+00  5.483e-02 -2.050e+03 -5.225e+02 -5.085e+01  3.988e+03 \n",
      "  0.000e+00  0.000e+00 -9.156e-02  1.939e+00  4.393e-04  2.949e-05  1.348e-01 -5.750e-02  1.573e-03  5.207e-01  8.378e-05 \n",
      "  0.000e+00  0.000e+00  0.000e+00  0.000e+00  0.000e+00  0.000e+00  0.000e+00  0.000e+00  0.000e+00  0.000e+00  0.000e+00 \n",
      "  0.000e+00  0.000e+00  0.000e+00  0.000e+00  0.000e+00  0.000e+00  0.000e+00  0.000e+00  0.000e+00  0.000e+00  0.000e+00  1.103e+04 \n",
      "  0.000e+00  0.000e+00 -1.377e-03  1.694e-02  2.201e-05  1.038e-05  7.325e-02 -5.173e-04  1.718e-03  3.996e-03  6.340e-07 \n",
      "  0.000e+00  0.000e+00 -1.377e-03  1.694e-02  2.201e-05  1.038e-05  7.325e-02 -5.173e-04  1.718e-03  3.996e-03  6.340e-07  0.000e+00  4.157e-08 \n",
      "ERR MATRIX APPROXIMATE\n",
      " PARAMETER  CORRELATION COEFFICIENTS  \n",
      "       NO.  GLOBAL      1      2      3      4      5      6      7      8      9     10     11     12     14\n",
      "        1  0.00000   1.000  0.000  0.000  0.000  0.000  0.000  0.000  0.000  0.000  0.000  0.000  0.000  0.000\n",
      "        2  0.00000   0.000  1.000  0.000  0.000  0.000  0.000  0.000  0.000  0.000  0.000  0.000  0.000  0.000\n",
      "        3  0.92527   0.000  0.000  1.000 -0.421 -0.413 -0.238  0.296  0.368  0.263 -0.545 -0.496  0.000 -0.335\n",
      "        4  0.99731   0.000  0.000 -0.421  1.000  0.323  0.085  0.011  0.036  0.006  0.644  0.705  0.000  0.276\n",
      "        5  0.97187   0.000  0.000 -0.413  0.323  1.000  0.585  0.586 -0.288  0.608  0.381  0.414  0.000  0.931\n",
      "        6  0.80154   0.000  0.000 -0.238  0.085  0.585  1.000  0.446 -0.003  0.466  0.012  0.044  0.000  0.688\n",
      "        7  0.99905   0.000  0.000  0.296  0.011  0.586  0.446  1.000 -0.010  0.998 -0.047  0.021  0.000  0.519\n",
      "        8  0.99785   0.000  0.000  0.368  0.036 -0.288 -0.003 -0.010  1.000 -0.011 -0.735 -0.558  0.000 -0.225\n",
      "        9  0.99903   0.000  0.000  0.263  0.006  0.608  0.466  0.998 -0.011  1.000 -0.052  0.011  0.000  0.539\n",
      "       10  0.99869   0.000  0.000 -0.545  0.644  0.381  0.012 -0.047 -0.735 -0.052  1.000  0.901  0.000  0.310\n",
      "       11  0.92720   0.000  0.000 -0.496  0.705  0.414  0.044  0.021 -0.558  0.011  0.901  1.000  0.000  0.340\n",
      "       12  0.00000   0.000  0.000  0.000  0.000  0.000  0.000  0.000  0.000  0.000  0.000  0.000  1.000  0.000\n",
      "       14  0.96208   0.000  0.000 -0.335  0.276  0.931  0.688  0.519 -0.225  0.539  0.310  0.340  0.000  1.000\n",
      " ERR MATRIX APPROXIMATE\n",
      "[#1] INFO:Minization -- RooMinimizerFcn::synchronize: set of constant parameters changed, rerunning const optimizer\n",
      "[#1] INFO:NumericIntegration -- RooRealIntegral::init(px_p_Int[x]) using numeric integrator RooIntegrator1D to calculate Int(x)\n",
      "[#1] INFO:Minization --  The following expressions will be evaluated in cache-and-track mode: (dscb,px_p)\n",
      "[#1] INFO:NumericIntegration -- RooRealIntegral::init(px_f_Int[x]) using numeric integrator RooIntegrator1D to calculate Int(x)\n",
      "[#1] INFO:Minization --  The following expressions will be evaluated in cache-and-track mode: (dscb,px_f)\n",
      " **********\n",
      " **    8 **SET ERR         0.5\n",
      " **********\n",
      " **********\n",
      " **    9 **SET PRINT           1\n",
      " **********\n",
      " **********\n",
      " **   10 **HESSE        7000\n",
      " **********\n",
      " MINUIT WARNING IN HESSE\n",
      " ============== Second derivative enters zero, param 1\n",
      " MINUIT WARNING IN HESSE\n",
      " ============== Second derivative zero for parameter1\n",
      "  MNHESS FAILS AND WILL RETURN DIAGONAL MATRIX. \n",
      " FCN=-6947.11 FROM HESSE     STATUS=FAILED          3 CALLS        2720 TOTAL\n",
      "                     EDM=0.00663687    STRATEGY= 1  ERROR MATRIX UNCERTAINTY 100.0 per cent\n",
      "  EXT PARAMETER                APPROXIMATE     INTERNAL      INTERNAL  \n",
      "  NO.   NAME      VALUE            ERROR       STEP SIZE       VALUE   \n",
      "   1  alpha1       6.39601e+00   7.41637e+00  -0.00000e+00   6.63632e-01\n",
      "   2  alpha2       4.82348e+00   1.67130e-01  -0.00000e+00   1.17671e-01\n",
      "   3  c_f         -9.99239e+01   1.99636e+02  -0.00000e+00  -1.60980e+00\n",
      "   4  c_p         -9.91807e+01   1.76525e+02  -0.00000e+00  -1.44270e+00\n",
      "   5  f_f          3.20471e-01   4.35044e-02  -0.00000e+00  -3.67258e-01\n",
      "   6  f_p          6.97426e-01   5.28885e-02  -0.00000e+00   2.73569e+00\n",
      "   7  m0_f        -9.46014e+01   1.08950e+02  -0.00000e+00  -1.24071e+00\n",
      "   8  m0_p        -9.99985e+01   1.06611e+02  -0.00000e+00   4.71984e+00\n",
      "   9  m_f          7.92988e+00   6.81260e-01  -0.00000e+00   4.14147e+00\n",
      "  10  m_p          1.77831e+01   1.66400e+01   0.00000e+00   5.58303e+00\n",
      "  11  mean_p       5.49165e-01   3.41400e-03   0.00000e+00  -4.17819e-02\n",
      "  12  n1           4.15948e+00   4.14743e+00  -0.00000e+00  -1.68918e-01\n",
      "  13  n2           6.62385e-01     fixed    \n",
      "  14  sigma_p      4.99994e-02   1.96583e-02  -0.00000e+00  -4.72327e+00\n",
      "                               ERR DEF= 0.5\n",
      " EXTERNAL ERROR MATRIX.    NDIM=  25    NPAR= 13    ERR DEF=0.5\n",
      " ELEMENTS ABOVE DIAGONAL ARE NOT PRINTED.\n",
      "  1.973e+02 \n",
      "  0.000e+00  3.945e-02 \n",
      "  0.000e+00  0.000e+00  1.358e+02 \n",
      "  0.000e+00  0.000e+00  0.000e+00  4.627e+04 \n",
      "  0.000e+00  0.000e+00  0.000e+00  0.000e+00  1.898e-03 \n",
      "  0.000e+00  0.000e+00  0.000e+00  0.000e+00  0.000e+00  2.810e-03 \n",
      "  0.000e+00  0.000e+00  0.000e+00  0.000e+00  0.000e+00  0.000e+00  1.107e+03 \n",
      "  0.000e+00  0.000e+00  0.000e+00  0.000e+00  0.000e+00  0.000e+00  0.000e+00  3.648e+02 \n",
      "  0.000e+00  0.000e+00  0.000e+00  0.000e+00  0.000e+00  0.000e+00  0.000e+00  0.000e+00  4.642e-01 \n",
      "  0.000e+00  0.000e+00  0.000e+00  0.000e+00  0.000e+00  0.000e+00  0.000e+00  0.000e+00  0.000e+00  2.964e+02 \n",
      "  0.000e+00  0.000e+00  0.000e+00  0.000e+00  0.000e+00  0.000e+00  0.000e+00  0.000e+00  0.000e+00  0.000e+00  1.177e-05 \n",
      "  0.000e+00  0.000e+00  0.000e+00  0.000e+00  0.000e+00  0.000e+00  0.000e+00  0.000e+00  0.000e+00  0.000e+00  0.000e+00 \n",
      "  0.000e+00  0.000e+00  0.000e+00  0.000e+00  0.000e+00  0.000e+00  0.000e+00  0.000e+00  0.000e+00  0.000e+00  0.000e+00  2.429e+01 \n",
      "  0.000e+00  0.000e+00  0.000e+00  0.000e+00  0.000e+00  0.000e+00  0.000e+00  0.000e+00  0.000e+00  0.000e+00  0.000e+00 \n",
      "  0.000e+00  0.000e+00  0.000e+00  0.000e+00  0.000e+00  0.000e+00  0.000e+00  0.000e+00  0.000e+00  0.000e+00  0.000e+00  0.000e+00  1.133e-06 \n",
      "ERR MATRIX APPROXIMATE\n",
      " PARAMETER  CORRELATION COEFFICIENTS  \n",
      "       NO.  GLOBAL      1      2      3      4      5      6      7      8      9     10     11     12     14\n",
      "        1  0.00000   1.000  0.000  0.000  0.000  0.000  0.000  0.000  0.000  0.000  0.000  0.000  0.000  0.000\n",
      "        2  0.00000   0.000  1.000  0.000  0.000  0.000  0.000  0.000  0.000  0.000  0.000  0.000  0.000  0.000\n",
      "        3  0.00000   0.000  0.000  1.000  0.000  0.000  0.000  0.000  0.000  0.000  0.000  0.000  0.000  0.000\n",
      "        4  0.00000   0.000  0.000  0.000  1.000  0.000  0.000  0.000  0.000  0.000  0.000  0.000  0.000  0.000\n",
      "        5  0.00000   0.000  0.000  0.000  0.000  1.000  0.000  0.000  0.000  0.000  0.000  0.000  0.000  0.000\n",
      "        6  0.00000   0.000  0.000  0.000  0.000  0.000  1.000  0.000  0.000  0.000  0.000  0.000  0.000  0.000\n",
      "        7  0.00000   0.000  0.000  0.000  0.000  0.000  0.000  1.000  0.000  0.000  0.000  0.000  0.000  0.000\n",
      "        8  0.00000   0.000  0.000  0.000  0.000  0.000  0.000  0.000  1.000  0.000  0.000  0.000  0.000  0.000\n",
      "        9  0.00000   0.000  0.000  0.000  0.000  0.000  0.000  0.000  0.000  1.000  0.000  0.000  0.000  0.000\n",
      "       10  0.00000   0.000  0.000  0.000  0.000  0.000  0.000  0.000  0.000  0.000  1.000  0.000  0.000  0.000\n",
      "       11  0.00000   0.000  0.000  0.000  0.000  0.000  0.000  0.000  0.000  0.000  0.000  1.000  0.000  0.000\n",
      "       12  0.00000   0.000  0.000  0.000  0.000  0.000  0.000  0.000  0.000  0.000  0.000  0.000  1.000  0.000\n",
      "       14  0.00000   0.000  0.000  0.000  0.000  0.000  0.000  0.000  0.000  0.000  0.000  0.000  0.000  1.000\n",
      " ERR MATRIX APPROXIMATE\n",
      " ELEMENTS ABOVE DIAGONAL ARE NOT PRINTED.\n",
      "[#1] INFO:Minization -- RooMinimizer::optimizeConst: deactivating const optimization\n"
     ]
    }
   ],
   "source": [
    "abc = simPdf.fitTo(combData, ROOT.RooFit.Save())\n"
   ]
  },
  {
   "cell_type": "code",
   "execution_count": 19,
   "metadata": {},
   "outputs": [],
   "source": [
    "# simPdf.minNll()"
   ]
  },
  {
   "cell_type": "code",
   "execution_count": 20,
   "metadata": {},
   "outputs": [],
   "source": [
    "if(dgq=='qcd'):color = 46\n",
    "if(dgq=='gjets'): color= 30\n",
    "elif(dgq=='mc'):color = 6\n",
    "else: color = 4"
   ]
  },
  {
   "cell_type": "code",
   "execution_count": 21,
   "metadata": {},
   "outputs": [],
   "source": [
    "frame1 = x.frame(ROOT.RooFit.Title(\"Pass sample, {}\".format(dgq)))"
   ]
  },
  {
   "cell_type": "code",
   "execution_count": 22,
   "metadata": {},
   "outputs": [
    {
     "data": {
      "text/plain": [
       "<ROOT.RooPlot object (\"frame_x_7669cc0\") at 0x7669cc0>"
      ]
     },
     "execution_count": 22,
     "metadata": {},
     "output_type": "execute_result"
    },
    {
     "name": "stdout",
     "output_type": "stream",
     "text": [
      "[#1] INFO:Plotting -- RooTreeData::plotOn: plotting 394 events out of 1148 total events\n"
     ]
    }
   ],
   "source": [
    "combData.plotOn(frame1, ROOT.RooFit.Cut(\"sample==sample::pass\"),  ROOT.RooFit.Name(\"combData\"), ROOT.RooFit.DataError(ROOT.RooAbsData.SumW2))"
   ]
  },
  {
   "cell_type": "code",
   "execution_count": 23,
   "metadata": {},
   "outputs": [
    {
     "data": {
      "text/plain": [
       "<ROOT.RooPlot object (\"frame_x_7669cc0\") at 0x7669cc0>"
      ]
     },
     "execution_count": 23,
     "metadata": {},
     "output_type": "execute_result"
    },
    {
     "name": "stdout",
     "output_type": "stream",
     "text": [
      "[#1] INFO:Plotting -- RooSimultaneous::plotOn(simPdf) plot on x represents a slice in the index category (sample)\n",
      "[#1] INFO:Plotting -- RooAbsReal::plotOn(modelp) slice variable sample was not projected anyway\n",
      "[#1] INFO:NumericIntegration -- RooRealIntegral::init(px_p_Int[x]) using numeric integrator RooIntegrator1D to calculate Int(x)\n",
      "[#1] INFO:Plotting -- RooSimultaneous::plotOn(simPdf) plot on x represents a slice in the index category (sample)\n",
      "[#1] INFO:Plotting -- RooAbsPdf::plotOn(modelp) directly selected PDF components: (px_p)\n",
      "[#1] INFO:Plotting -- RooAbsPdf::plotOn(modelp) indirectly selected PDF components: (model_p)\n",
      "[#1] INFO:Plotting -- RooAbsReal::plotOn(modelp) slice variable sample was not projected anyway\n",
      "[#1] INFO:NumericIntegration -- RooRealIntegral::init(px_p_Int[x]) using numeric integrator RooIntegrator1D to calculate Int(x)\n"
     ]
    }
   ],
   "source": [
    "sampleSet = ROOT.RooArgSet(sample)\n",
    "\n",
    "simPdf.plotOn(frame1, ROOT.RooFit.Slice(sample, \"pass\"), \n",
    "              ROOT.RooFit.ProjWData(sampleSet, combData),\n",
    "              ROOT.RooFit.LineColor(color),\n",
    "              ROOT.RooFit.Name(\"simPdf\")\n",
    "             )\n",
    "\n",
    "\n",
    "simPdf.plotOn(frame1, \n",
    "              ROOT.RooFit.Slice(sample, \"pass\"), \n",
    "              ROOT.RooFit.Components(\"px_p\"), \n",
    "              ROOT.RooFit.ProjWData(sampleSet, combData), \n",
    "              ROOT.RooFit.LineStyle(ROOT.kDashed),\n",
    "              ROOT.RooFit.LineColor(color)\n",
    "             )\n",
    "\n"
   ]
  },
  {
   "cell_type": "code",
   "execution_count": 24,
   "metadata": {},
   "outputs": [
    {
     "data": {
      "text/plain": [
       "<ROOT.RooPlot object (\"frame_x_8cfa150\") at 0x8cfa150>"
      ]
     },
     "execution_count": 24,
     "metadata": {},
     "output_type": "execute_result"
    },
    {
     "name": "stdout",
     "output_type": "stream",
     "text": [
      "[#1] INFO:Plotting -- RooTreeData::plotOn: plotting 754 events out of 1148 total events\n",
      "[#1] INFO:Plotting -- RooSimultaneous::plotOn(simPdf) plot on x represents a slice in the index category (sample)\n",
      "[#1] INFO:Plotting -- RooAbsReal::plotOn(modelf) slice variable sample was not projected anyway\n",
      "[#1] INFO:NumericIntegration -- RooRealIntegral::init(px_f_Int[x]) using numeric integrator RooIntegrator1D to calculate Int(x)\n",
      "[#1] INFO:Plotting -- RooSimultaneous::plotOn(simPdf) plot on x represents a slice in the index category (sample)\n",
      "[#1] INFO:Plotting -- RooAbsPdf::plotOn(modelf) directly selected PDF components: (px_f)\n",
      "[#1] INFO:Plotting -- RooAbsPdf::plotOn(modelf) indirectly selected PDF components: (model_f)\n",
      "[#1] INFO:Plotting -- RooAbsReal::plotOn(modelf) slice variable sample was not projected anyway\n",
      "[#1] INFO:NumericIntegration -- RooRealIntegral::init(px_f_Int[x]) using numeric integrator RooIntegrator1D to calculate Int(x)\n"
     ]
    }
   ],
   "source": [
    "frame2 = x.frame(ROOT.RooFit.Title(\"Fail sample, {}\".format(dgq)))\n",
    "combData.plotOn(frame2, ROOT.RooFit.Cut(\"sample==sample::fail\"),  ROOT.RooFit.Name(\"combData\"))\n",
    "simPdf.plotOn(frame2, ROOT.RooFit.Slice(sample, \"fail\"), \n",
    "              ROOT.RooFit.ProjWData(sampleSet, combData),\n",
    "#               ROOT.RooFit.LineStyle(ROOT.kDashed),\n",
    "              ROOT.RooFit.LineColor(color),\n",
    "              ROOT.RooFit.Name(\"simPdf\")\n",
    "             )\n",
    "\n",
    "simPdf.plotOn(frame2, \n",
    "              ROOT.RooFit.Slice(sample, \"fail\"), \n",
    "              ROOT.RooFit.Components(\"px_f\"), \n",
    "              ROOT.RooFit.ProjWData(sampleSet, combData), \n",
    "              ROOT.RooFit.LineStyle(ROOT.kDashed),\n",
    "              ROOT.RooFit.LineColor(color)\n",
    "             )\n",
    "\n",
    "# c = ROOT.TCanvas(\"rf501_simultaneouspdf\", \"rf501_simultaneouspdf\", 1200, 600)\n",
    "# c.Divide(2,1)\n",
    "# c.cd(1)\n",
    "# ROOT.gPad.SetLeftMargin(0.15)\n",
    "# ROOT.gStyle.SetOptFit(1111)\n",
    "# frame1.GetYaxis().SetTitleOffset(1.4)\n",
    "# frame1.SetLineColor(color)\n",
    "# frame1.GetYaxis().SetRangeUser(0.75*passhist.GetMinimum(), 1.15 * passhist.GetMaximum())\n",
    "# frame1.Draw()\n",
    "# c.Update()\n",
    "\n",
    "# c.cd(2)\n",
    "# ROOT.gPad.SetLeftMargin(0.15)\n",
    "# frame2.GetYaxis().SetTitleOffset(1.4)\n",
    "# frame1.SetLineColor(color)\n",
    "# frame2.GetYaxis().SetRangeUser(0.75*failhist.GetMinimum(), 1.15 * failhist.GetMaximum())\n",
    "# frame2.Draw()\n",
    "\n",
    "# c.SaveAs(\"simultaneouspdf_{}.png\".format(dgq))"
   ]
  },
  {
   "cell_type": "code",
   "execution_count": 25,
   "metadata": {},
   "outputs": [],
   "source": [
    "eff = ROOT.RooFormulaVar(\"eff\", \"(a_p * f_p) / (a_f * f_f + a_p * f_p) \", ROOT.RooArgList(a_p, f_p, a_f, f_f))\n"
   ]
  },
  {
   "cell_type": "code",
   "execution_count": 26,
   "metadata": {},
   "outputs": [],
   "source": [
    "p = f_p.getVal()\n",
    "f = f_f.getVal()\n",
    "\n",
    "dp = f_p.getError()\n",
    "df = f_f.getError()\n",
    "\n",
    "a = f+p\n",
    "da = np.sqrt(df*df + dp*dp)"
   ]
  },
  {
   "cell_type": "code",
   "execution_count": 27,
   "metadata": {},
   "outputs": [],
   "source": [
    "deffoeff = np.sqrt( (dp/p)**2 + (da / a)**2 )\n",
    "deff = deffoeff * eff.getVal()"
   ]
  },
  {
   "cell_type": "code",
   "execution_count": 28,
   "metadata": {},
   "outputs": [
    {
     "name": "stdout",
     "output_type": "stream",
     "text": [
      "Efficiency is: 53.1550 +/- 5.3886 %\n"
     ]
    }
   ],
   "source": [
    "print(\"Efficiency is: {:.4f} +/- {:.4f} %\".format(eff.getVal()*100, deff*100))"
   ]
  },
  {
   "cell_type": "code",
   "execution_count": 29,
   "metadata": {},
   "outputs": [
    {
     "name": "stdout",
     "output_type": "stream",
     "text": [
      "Scale Factor is 1.0326 +\\- 0.1837\n"
     ]
    }
   ],
   "source": [
    "dmu = 54.9157 #Data efficiency and uncertainty\n",
    "dmu_err = 0.6363\n",
    "\n",
    "gmu = 53.1811 #GJets efficiency and uncertainty\n",
    "gmu_err = 9.4408\n",
    "\n",
    "# y = 55.0452 #GJets efficiency and uncertainty with weights\n",
    "# dy = 10.4371\n",
    "\n",
    "z = dmu/gmu\n",
    "dz = z * np.sqrt( (dmu_err/gmu)**2 + (gmu_err/gmu)**2 )\n",
    "\n",
    "print(\"Scale Factor is {:.4f} +\\- {:.4f}\".format(z, dz))"
   ]
  },
  {
   "cell_type": "code",
   "execution_count": 30,
   "metadata": {},
   "outputs": [
    {
     "data": {
      "text/plain": [
       "0.35185185185185186"
      ]
     },
     "execution_count": 30,
     "metadata": {},
     "output_type": "execute_result"
    }
   ],
   "source": [
    "np.sqrt((19. / 54.)**2)"
   ]
  },
  {
   "cell_type": "code",
   "execution_count": 31,
   "metadata": {},
   "outputs": [
    {
     "data": {
      "text/plain": [
       "0.6974256723631057"
      ]
     },
     "execution_count": 31,
     "metadata": {},
     "output_type": "execute_result"
    }
   ],
   "source": [
    "f_p.getVal()"
   ]
  },
  {
   "cell_type": "code",
   "execution_count": 32,
   "metadata": {},
   "outputs": [
    {
     "name": "stdout",
     "output_type": "stream",
     "text": [
      "Pass Values:\n",
      "Norm: 402.0\n",
      "\n",
      "Gaussian: \n",
      "mu = 0.5492 +/- 0.0034\n",
      "sigma = 0.0500 +/- 0.0197\n",
      "\n",
      "Background: \n",
      "m = 17.78 +/- 16.64\n",
      "m0 = -100.00 +/- 106.61\n",
      "c = -99.18 +/- 176.52\n"
     ]
    }
   ],
   "source": [
    "print(\"Pass Values:\")\n",
    "print(\"Norm: {}\".format(a_p.getVal()))\n",
    "print(\"\\nGaussian: \")\n",
    "print(\"mu = {:.4f} +/- {:.4f}\".format(mean_p.getVal(), mean_p.getError()))\n",
    "print(\"sigma = {:.4f} +/- {:.4f}\".format(sigma_p.getVal(), sigma_p.getError()))\n",
    "\n",
    "\n",
    "print(\"\\nBackground: \")\n",
    "\n",
    "if 'data' in dgq:\n",
    "    print(\"p0 = {:.2f} +/- {:.2f}\".format(a0_p.getVal(), a0_p.getError()))\n",
    "    print(\"p1 = {:.2f} +/- {:.2f}\".format(a1_p.getVal(), a1_p.getError()))\n",
    "   \n",
    "else:\n",
    "    # Argus\n",
    "    print(\"m = {:.2f} +/- {:.2f}\".format(m_p.getVal(), m_p.getError()))\n",
    "    print(\"m0 = {:.2f} +/- {:.2f}\".format(m0_p.getVal(), m0_p.getError()))\n",
    "    print(\"c = {:.2f} +/- {:.2f}\".format(c_p.getVal(), c_p.getError()))\n",
    "    \n"
   ]
  },
  {
   "cell_type": "code",
   "execution_count": 33,
   "metadata": {},
   "outputs": [
    {
     "name": "stdout",
     "output_type": "stream",
     "text": [
      "-0.1599\n",
      "0.2401\n"
     ]
    }
   ],
   "source": [
    "print(ss-sw*se)\n",
    "print(ss+sw*se)"
   ]
  },
  {
   "cell_type": "code",
   "execution_count": 34,
   "metadata": {},
   "outputs": [
    {
     "name": "stdout",
     "output_type": "stream",
     "text": [
      "Fail Values:\n",
      "Norm: 771.0\n",
      "\n",
      "Gaussian\n",
      "mu = 0.5492 +/- 0.0034\n",
      "sigma = 0.0500 +/- 0.0197\n",
      "\n",
      "Background: \n",
      "m = 7.93 +/- 0.68\n",
      "m0 = -94.60 +/- 108.95\n",
      "c = -99.92 +/- 199.64\n"
     ]
    }
   ],
   "source": [
    "print(\"Fail Values:\")\n",
    "print(\"Norm: {}\".format(a_f.getVal()))\n",
    "print(\"\\nGaussian\")\n",
    "print(\"mu = {:.4f} +/- {:.4f}\".format(mean_p.getVal(), mean_p.getError()))\n",
    "print(\"sigma = {:.4f} +/- {:.4f}\".format(sigma_p.getVal(), sigma_p.getError()))\n",
    "\n",
    "print(\"\\nBackground: \")\n",
    "\n",
    "if 'data' in dgq:\n",
    "    print(\"p0 = {:.2f} +/- {:.2f}\".format(a0_f.getVal(), a0_f.getError()))\n",
    "    print(\"p1 = {:.3f} +/- {:.3f}\".format(a1_f.getVal(), a1_f.getError()))\n",
    "   \n",
    "else:\n",
    "    # Argus\n",
    "    print(\"m = {:.2f} +/- {:.2f}\".format(m_f.getVal(), m_f.getError()))\n",
    "    print(\"m0 = {:.2f} +/- {:.2f}\".format(m0_f.getVal(), m0_f.getError()))\n",
    "    print(\"c = {:.2f} +/- {:.2f}\".format(c_f.getVal(), c_f.getError()))\n",
    "\n"
   ]
  },
  {
   "cell_type": "code",
   "execution_count": 35,
   "metadata": {
    "scrolled": true
   },
   "outputs": [
    {
     "name": "stdout",
     "output_type": "stream",
     "text": [
      "Chi2 / ndof is 3.47684790713\n",
      "Chi2 / ndof is 6.34233751224\n"
     ]
    }
   ],
   "source": [
    "# pl = p_ext.getParameters(data_pass).contentsString().split(\",\")\n",
    "# fl = f_ext.getParameters(data_pass).contentsString().split(\",\")\n",
    "# cc = 0\n",
    "# for ff in fl: \n",
    "#     if(ff not in pl): cc += 1\n",
    "# nparams = len(pl) + cc\n",
    "\n",
    "if 'data' in dgq:\n",
    "    nparams = 8\n",
    "else: \n",
    "    nparams = 10\n",
    "    \n",
    "# chi2 = frame1.chiSquare(\"simPdf\", \"combData\" )\n",
    "# print(\"Chi2 / ndof is {}\".format(chi2))\n",
    "# chi2 = frame2.chiSquare(\"simPdf\", \"combData\")\n",
    "# print(\"Chi2 / ndof is {}\".format(chi2))\n",
    "    \n",
    "chi2 = frame1.chiSquare(\"simPdf\", \"combData\", nparams)\n",
    "print(\"Chi2 / ndof is {}\".format(chi2))\n",
    "chi2 = frame2.chiSquare(\"simPdf\", \"combData\", nparams)\n",
    "print(\"Chi2 / ndof is {}\".format(chi2))"
   ]
  },
  {
   "cell_type": "code",
   "execution_count": 42,
   "metadata": {},
   "outputs": [
    {
     "name": "stderr",
     "output_type": "stream",
     "text": [
      "Warning in <TCanvas::Constructor>: Deleting canvas with same name: simPull\n"
     ]
    }
   ],
   "source": [
    "\n",
    "hpull = frame1.pullHist(\"combData\", \"simPdf\")\n",
    "frame1P = x.frame(ROOT.RooFit.Title(\"\"))\n",
    "frame1P.addPlotable(hpull, \"P\")\n",
    "\n",
    "hpull2 = frame2.pullHist(\"combData\", \"simPdf\")\n",
    "frame2P = x.frame(ROOT.RooFit.Title(\"\"))\n",
    "frame2P.addPlotable(hpull2, \"P\")\n",
    "\n",
    "# cA = ROOT.TCanvas(\"simPull\", \"simPull\", 1200, 600)\n",
    "cA = ROOT.TCanvas(\"simPull\", \"simPull\", 600, 600)\n",
    "# cA.Divide(2,1)\n",
    "\n",
    "cA.cd(1)\n",
    "\n",
    "p12 = ROOT.TPad(\"pad1\", \"tall\",0,0.165,1,1)\n",
    "p22 = ROOT.TPad(\"pad2\", \"short\",0,0.0,1.0,0.23)\n",
    "p22.SetBottomMargin(0.35)\n",
    "p12.Draw()\n",
    "p22.Draw()\n",
    "\n",
    "p12.cd()\n",
    "ROOT.gPad.SetLeftMargin(0.15)\n",
    "ROOT.gStyle.SetOptFit(1111)\n",
    "if(\"data\" in dgq):\n",
    "    frame1.SetTitle(\"Pass Sample, Run 2 Data\")\n",
    "else:\n",
    "    frame1.SetTitle(\"Pass Sample, Run 2 GJets\")\n",
    "frame1.GetYaxis().SetTitleOffset(1.4)\n",
    "frame1.SetLineColor(color)\n",
    "passhist.GetXaxis().SetRangeUser(rlow, rhigh)\n",
    "frame1.GetYaxis().SetRangeUser(0.75*passhist.GetMinimum(), 1.15 * passhist.GetMaximum())\n",
    "frame1.GetXaxis().SetLabelOffset(999)\n",
    "frame1.GetXaxis().SetLabelSize(0)\n",
    "frame1.Draw()\n",
    "\n",
    "p22.cd()\n",
    "ROOT.gPad.SetLeftMargin(0.15)\n",
    "frame1P.SetTitle(\";Mass(GeV);#frac{Data - Fit}{Uncertainty}\")\n",
    "frame1P.GetYaxis().SetLabelSize(0.11)\n",
    "frame1P.GetXaxis().SetLabelSize(0.15)\n",
    "frame1P.GetXaxis().SetTitleSize(0.15)\n",
    "frame1P.GetYaxis().SetTitleOffset(0.3)\n",
    "frame1P.GetYaxis().SetTitleSize(0.125)\n",
    "frame1P.Draw()\n",
    "\n",
    "# # L1 = ROOT.TLine(rlow-0.005, 0, rhigh+0.005, 0)\n",
    "# # L1.SetLineColor(12)\n",
    "# # L1.Draw(\"same\")\n",
    "\n",
    "# ##############################################################\n",
    "\n"
   ]
  },
  {
   "cell_type": "code",
   "execution_count": 43,
   "metadata": {},
   "outputs": [],
   "source": [
    "# cA.cd(2)\n",
    "\n",
    "# p12 = ROOT.TPad(\"pad1\", \"tall\",0,0.165,1,1)\n",
    "# p22 = ROOT.TPad(\"pad2\", \"short\",0,0.0,1.0,0.23)\n",
    "# p22.SetBottomMargin(0.35)\n",
    "# p12.Draw()\n",
    "# p22.Draw()\n",
    "\n",
    "# p12.cd()\n",
    "# ROOT.gPad.SetLeftMargin(0.15)\n",
    "# ROOT.gStyle.SetOptFit(1111)\n",
    "# frame2.GetYaxis().SetTitleOffset(1.4)\n",
    "# frame2.SetLineColor(color)\n",
    "# failhist.GetXaxis().SetRangeUser(rlow, rhigh)\n",
    "# frame2.GetYaxis().SetRangeUser(0.75*failhist.GetMinimum(), 1.15 * failhist.GetMaximum())\n",
    "# frame2.GetXaxis().SetLabelOffset(999)\n",
    "# frame2.GetXaxis().SetLabelSize(0)\n",
    "# frame2.Draw()\n",
    "\n",
    "# p22.cd()\n",
    "# ROOT.gPad.SetLeftMargin(0.15)\n",
    "# frame2P.SetTitle(\";Mass(GeV);Data - Fit\")\n",
    "# frame2P.GetYaxis().SetLabelSize(0.11)\n",
    "# frame2P.GetXaxis().SetLabelSize(0.15)\n",
    "# frame2P.GetXaxis().SetTitleSize(0.15)\n",
    "# frame2P.GetYaxis().SetTitleOffset(0.3)\n",
    "# frame2P.GetYaxis().SetTitleSize(0.15)\n",
    "# frame2P.Draw()\n",
    "\n",
    "# L2 = ROOT.TLine(rlow-0.005, 0, rhigh+0.005, 0)\n",
    "# L2.SetLineColor(12)\n",
    "# L2.Draw(\"same\")"
   ]
  },
  {
   "cell_type": "code",
   "execution_count": 44,
   "metadata": {
    "scrolled": true
   },
   "outputs": [
    {
     "data": {
      "image/png": "[encoded data removed]",
      "text/plain": [
       "<IPython.core.display.Image object>"
      ]
     },
     "metadata": {},
     "output_type": "display_data"
    }
   ],
   "source": [
    "gROOT.GetListOfCanvases().Draw()"
   ]
  },
  {
   "cell_type": "code",
   "execution_count": 39,
   "metadata": {},
   "outputs": [
    {
     "name": "stdout",
     "output_type": "stream",
     "text": [
      "Eta Pass Rate is: 53.1550 +/- 5.3886 %\n",
      "mu = 0.5492 +/- 0.0034\n"
     ]
    }
   ],
   "source": [
    "print(\"Eta Pass Rate is: {:.4f} +/- {:.4f} %\".format(eff.getVal()*100, deff*100))\n",
    "print(\"mu = {:.4f} +/- {:.4f}\".format(mean_p.getVal(), mean_p.getError()))"
   ]
  },
  {
   "cell_type": "code",
   "execution_count": 40,
   "metadata": {},
   "outputs": [
    {
     "data": {
      "text/plain": [
       "0.98476342771141"
      ]
     },
     "execution_count": 40,
     "metadata": {},
     "output_type": "execute_result"
    }
   ],
   "source": [
    "52.3451/53.1550"
   ]
  },
  {
   "cell_type": "code",
   "execution_count": 45,
   "metadata": {},
   "outputs": [
    {
     "data": {
      "text/plain": [
       "0.11717754024859893"
      ]
     },
     "execution_count": 45,
     "metadata": {},
     "output_type": "execute_result"
    }
   ],
   "source": [
    "np.sqrt( (3.0762/52.3451)**2 + (5.3886/53.1550)**2  )"
   ]
  },
  {
   "cell_type": "code",
   "execution_count": null,
   "metadata": {},
   "outputs": [],
   "source": []
  }
 ],
 "metadata": {
  "kernelspec": {
   "display_name": "Python 2",
   "language": "python",
   "name": "python2"
  },
  "language_info": {
   "codemirror_mode": {
    "name": "ipython",
    "version": 2
   },
   "file_extension": ".py",
   "mimetype": "text/x-python",
   "name": "python",
   "nbconvert_exporter": "python",
   "pygments_lexer": "ipython2",
   "version": "2.7.15+"
  }
 },
 "nbformat": 4,
 "nbformat_minor": 2
}
